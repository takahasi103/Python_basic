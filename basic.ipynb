{
  "nbformat": 4,
  "nbformat_minor": 0,
  "metadata": {
    "colab": {
      "provenance": [],
      "authorship_tag": "ABX9TyMV3lJ6MG4+HWOol/xEwoMg",
      "include_colab_link": true
    },
    "kernelspec": {
      "name": "python3",
      "display_name": "Python 3"
    },
    "language_info": {
      "name": "python"
    }
  },
  "cells": [
    {
      "cell_type": "markdown",
      "metadata": {
        "id": "view-in-github",
        "colab_type": "text"
      },
      "source": [
        "<a href=\"https://colab.research.google.com/github/takahasi103/Python_basic/blob/main/basic.ipynb\" target=\"_parent\"><img src=\"https://colab.research.google.com/assets/colab-badge.svg\" alt=\"Open In Colab\"/></a>"
      ]
    },
    {
      "cell_type": "markdown",
      "source": [
        "#Python基礎"
      ],
      "metadata": {
        "id": "_qkHj2P4fyLV"
      }
    },
    {
      "cell_type": "markdown",
      "source": [
        "##**01. 変数**\n",
        "\n",
        "`変数名 = 値`で変数を定義  \n",
        "`print(変数)`で変数の値を表示する\n"
      ],
      "metadata": {
        "id": "O7VJ6Djqf6wE"
      }
    },
    {
      "cell_type": "code",
      "execution_count": null,
      "metadata": {
        "colab": {
          "base_uri": "https://localhost:8080/"
        },
        "id": "TEVQqEnPflcU",
        "outputId": "c511bb16-81d4-4442-a867-150cbb132b08"
      },
      "outputs": [
        {
          "output_type": "stream",
          "name": "stdout",
          "text": [
            "20\n",
            "1.5\n",
            "Hello\n"
          ]
        }
      ],
      "source": [
        "# 例\n",
        "a = 20 # 整数\n",
        "print(a)\n",
        "\n",
        "b = 1.5 # 少数\n",
        "print(b)\n",
        "\n",
        "c = \"Hello\" # 文字列\n",
        "print(c)"
      ]
    },
    {
      "cell_type": "markdown",
      "source": [
        "変数名には、アルファベットの他にアンダーバー（`_`）を使用し数字を使うことも可能  \n",
        "※**変数名の頭文字**を数字にすることはできない"
      ],
      "metadata": {
        "id": "KfbMn236ikOS"
      }
    },
    {
      "cell_type": "code",
      "source": [
        "# 例\n",
        "a_1 = 10\n",
        "print(a_1)"
      ],
      "metadata": {
        "colab": {
          "base_uri": "https://localhost:8080/"
        },
        "id": "IsmPQFbsjWl8",
        "outputId": "8e4c5686-278b-4388-fe80-c80711aa3322"
      },
      "execution_count": null,
      "outputs": [
        {
          "output_type": "stream",
          "name": "stdout",
          "text": [
            "10\n"
          ]
        }
      ]
    },
    {
      "cell_type": "code",
      "source": [
        "# 頭文字が数字の場合\n",
        "1_a = 10\n",
        "print(2_b)"
      ],
      "metadata": {
        "colab": {
          "base_uri": "https://localhost:8080/",
          "height": 137
        },
        "id": "wa-8LOd6jhcN",
        "outputId": "b8471a8b-22d0-49f1-833c-077c6b24a585"
      },
      "execution_count": null,
      "outputs": [
        {
          "output_type": "error",
          "ename": "SyntaxError",
          "evalue": "ignored",
          "traceback": [
            "\u001b[0;36m  File \u001b[0;32m\"<ipython-input-7-a9e261c3c461>\"\u001b[0;36m, line \u001b[0;32m2\u001b[0m\n\u001b[0;31m    1_a = 10\u001b[0m\n\u001b[0m     ^\u001b[0m\n\u001b[0;31mSyntaxError\u001b[0m\u001b[0;31m:\u001b[0m invalid decimal literal\n"
          ]
        }
      ]
    },
    {
      "cell_type": "markdown",
      "source": [
        "##**02. 四則演算**"
      ],
      "metadata": {
        "id": "2xtcnu37j-an"
      }
    },
    {
      "cell_type": "code",
      "source": [
        "# 例\n",
        "a = 5\n",
        "b = 3\n",
        "\n",
        "# 足し算\n",
        "c = a + b\n",
        "print(c)\n",
        "\n",
        "# 引き算\n",
        "d = a - b\n",
        "print(d)\n",
        "\n",
        "# 掛け算\n",
        "e = a * b\n",
        "print(e)\n",
        "\n",
        "# 割り算（小数）\n",
        "f = a / b\n",
        "print(f)\n",
        "\n",
        "# 割り算（整数）\n",
        "g = a // b\n",
        "print(g)\n",
        "\n",
        "# 割り算の余り\n",
        "h = a % b\n",
        "print(h)"
      ],
      "metadata": {
        "colab": {
          "base_uri": "https://localhost:8080/"
        },
        "id": "zesQoBi1kJlz",
        "outputId": "6d13c750-a994-4c98-f405-baa1dd97f5bb"
      },
      "execution_count": null,
      "outputs": [
        {
          "output_type": "stream",
          "name": "stdout",
          "text": [
            "8\n",
            "2\n",
            "15\n",
            "1.6666666666666667\n",
            "1\n",
            "2\n"
          ]
        }
      ]
    },
    {
      "cell_type": "markdown",
      "source": [
        "補足  \n",
        "`+`は文字列の結合ができる"
      ],
      "metadata": {
        "id": "Q_SS2le_lhnD"
      }
    },
    {
      "cell_type": "code",
      "source": [
        "# 例\n",
        "a = \"Hello\"\n",
        "b = \"World\"\n",
        "\n",
        "print(a + b)"
      ],
      "metadata": {
        "colab": {
          "base_uri": "https://localhost:8080/"
        },
        "id": "wS9QPWnMlspQ",
        "outputId": "8b2baaa8-ff9b-489c-843d-bd56bb312bbe"
      },
      "execution_count": null,
      "outputs": [
        {
          "output_type": "stream",
          "name": "stdout",
          "text": [
            "HelloWorld\n"
          ]
        }
      ]
    },
    {
      "cell_type": "markdown",
      "source": [
        "##**03. 比較演算子**\n",
        "\n",
        "真偽値（`Bool値`）を利用して、論理演算の結果の真偽を判定する  \n",
        "\n",
        "補足  \n",
        "真偽値（`Bool値`）とは、真（`True`）もしくは偽（`False`）の2つの値を表すデータ型"
      ],
      "metadata": {
        "id": "OvIz7MuVm9QD"
      }
    },
    {
      "cell_type": "code",
      "source": [
        "from binascii import b2a_base64\n",
        "# 例\n",
        "a = 3\n",
        "b = 9\n",
        "\n",
        "# aがbより大きいか\n",
        "c = a > b\n",
        "print(c)\n",
        "\n",
        "# aがbより小さいか\n",
        "d = a < b\n",
        "print(d)\n",
        "\n",
        "# aがb以上か\n",
        "e = a >= b\n",
        "print(e)\n",
        "\n",
        "# aがb以下か\n",
        "f = a <= b\n",
        "print(f)\n",
        "\n",
        "# aとbが等しいか\n",
        "g = a == b\n",
        "print(g)\n",
        "\n",
        "# aとbが等しくないか\n",
        "h = a != b\n",
        "print(h)"
      ],
      "metadata": {
        "colab": {
          "base_uri": "https://localhost:8080/"
        },
        "id": "FTCBPnUuo6pk",
        "outputId": "b81dbed7-3587-4811-9d6c-86a60171fc4b"
      },
      "execution_count": null,
      "outputs": [
        {
          "output_type": "stream",
          "name": "stdout",
          "text": [
            "False\n",
            "True\n",
            "False\n",
            "True\n",
            "False\n",
            "True\n"
          ]
        }
      ]
    },
    {
      "cell_type": "markdown",
      "source": [
        "##**04. 比較演算子**\n",
        "\n",
        "1. **論理積**（`and`）  \n",
        "両方の条件が真（`True`）の場合に真を返し、それ以外の場合は偽（`False`）を返す\n",
        "\n",
        "2. **論理和**（`or`）  \n",
        "どちらかの条件が真（`True`）の場合に真を返し、両方の条件が偽（`False`）の場合にのみ偽を返す\n",
        "\n",
        "3. **論理否定**（`not`）  \n",
        "条件を反転させる。条件が真なら偽（`False`）を、偽なら真（`True`）を返す\n"
      ],
      "metadata": {
        "id": "8cJ7UEZxq_lh"
      }
    },
    {
      "cell_type": "code",
      "source": [
        "# 例\n",
        "a = 1\n",
        "b = 2\n",
        "c = 3\n",
        "\n",
        "# 論理積\n",
        "d = a < b and b < c\n",
        "print(d)\n",
        "\n",
        "# 論理和\n",
        "e = a < b or b > c\n",
        "print(e)\n",
        "\n",
        "# 論理否定\n",
        "f = not a < b\n",
        "print(f)"
      ],
      "metadata": {
        "colab": {
          "base_uri": "https://localhost:8080/"
        },
        "id": "AvHydgtTtNOC",
        "outputId": "8a2ad575-0742-4a63-f455-1b71daeeceb2"
      },
      "execution_count": null,
      "outputs": [
        {
          "output_type": "stream",
          "name": "stdout",
          "text": [
            "True\n",
            "True\n",
            "False\n"
          ]
        }
      ]
    },
    {
      "cell_type": "markdown",
      "source": [
        "##**05. リスト**\n",
        "\n",
        "複数の値をまとめて扱う場合に使用  \n",
        "全体を`[]`で囲み、各要素を`,`で区切る"
      ],
      "metadata": {
        "id": "PIS8FMGhCtgS"
      }
    },
    {
      "cell_type": "code",
      "source": [
        "# 例\n",
        "a = [10, 20, 30, 40, 50, 60]\n",
        "print(a)"
      ],
      "metadata": {
        "colab": {
          "base_uri": "https://localhost:8080/"
        },
        "id": "P7cJ52f3Dr2q",
        "outputId": "8c07c0d5-0d30-4d14-b9cc-4e76550f197a"
      },
      "execution_count": null,
      "outputs": [
        {
          "output_type": "stream",
          "name": "stdout",
          "text": [
            "[10, 20, 30, 40, 50, 60]\n"
          ]
        }
      ]
    },
    {
      "cell_type": "markdown",
      "source": [
        "`a[0]`のように変数名の直後に`[]`を記述し、index番号を`[]`内に指定することで各要素を取り出せる  \n",
        "**※index番号は先頭から0番目、1番目…と数える**"
      ],
      "metadata": {
        "id": "IyF8iDK5D6YV"
      }
    },
    {
      "cell_type": "code",
      "source": [
        "# 例\n",
        "a = [80, 90, 100, 110, 120, 130]\n",
        "\n",
        "# 要素を１つ取り出す場合\n",
        "print(a[0])\n",
        "\n",
        "# 要素を範囲を指定して取り出す場合\n",
        "# 1番目以上、5番目未満の範囲\n",
        "print(a[1:5])\n",
        "\n",
        "# ３番目以降の範囲\n",
        "print(a[3::])"
      ],
      "metadata": {
        "colab": {
          "base_uri": "https://localhost:8080/"
        },
        "id": "v55QSo0iFB3P",
        "outputId": "f79f6424-71f2-4133-cf19-1de3fc86e278"
      },
      "execution_count": null,
      "outputs": [
        {
          "output_type": "stream",
          "name": "stdout",
          "text": [
            "80\n",
            "[90, 100, 110, 120]\n",
            "[110, 120, 130]\n"
          ]
        }
      ]
    },
    {
      "cell_type": "markdown",
      "source": [
        "Pythonのリストはどのような値でも格納できる"
      ],
      "metadata": {
        "id": "pjcbK7tsHFoV"
      }
    },
    {
      "cell_type": "code",
      "source": [
        "# 例\n",
        "a = 400\n",
        "b = [10, 20, \"Hello\", a, [30, 40, 50]]\n",
        "print(b)\n",
        "print(b[2])\n",
        "print(b[3])\n",
        "print(b[4])"
      ],
      "metadata": {
        "colab": {
          "base_uri": "https://localhost:8080/"
        },
        "id": "hmsFIasFHYba",
        "outputId": "a3b06fd4-6a07-4196-bbe0-a91c29bfa5bf"
      },
      "execution_count": null,
      "outputs": [
        {
          "output_type": "stream",
          "name": "stdout",
          "text": [
            "[10, 20, 'Hello', 400, [30, 40, 50]]\n",
            "Hello\n",
            "400\n",
            "[30, 40, 50]\n"
          ]
        }
      ]
    },
    {
      "cell_type": "markdown",
      "source": [
        "**リストは、作成後に要素を変更・追加をすることができる**"
      ],
      "metadata": {
        "id": "brDth-VZJvys"
      }
    },
    {
      "cell_type": "code",
      "source": [
        "# 例\n",
        "a = [1, 2, 3, 4, 5]\n",
        "\n",
        "# 要素の変更\n",
        "a[0] = \"Hello\"\n",
        "print(a)\n",
        "\n",
        "# 要素の追加\n",
        "a.append(6)\n",
        "print(a)"
      ],
      "metadata": {
        "colab": {
          "base_uri": "https://localhost:8080/"
        },
        "id": "47zxnOAGJ2Vt",
        "outputId": "d95a78e1-7062-4fb7-f829-fbd1e493e6d5"
      },
      "execution_count": null,
      "outputs": [
        {
          "output_type": "stream",
          "name": "stdout",
          "text": [
            "['Hello', 2, 3, 4, 5]\n",
            "['Hello', 2, 3, 4, 5, 6]\n"
          ]
        }
      ]
    },
    {
      "cell_type": "markdown",
      "source": [
        "##**06. タプル**\n",
        "\n",
        "複数の値をまとめて扱う場合に使用。ただし、リストと違い、**要素の変更・追加ができない**  \n",
        "全体を`()`で囲み、各要素を`,`で区切る"
      ],
      "metadata": {
        "id": "KxLt1jwZLGjL"
      }
    },
    {
      "cell_type": "code",
      "source": [
        "# 例\n",
        "a = (10, 20, 30, 40, \"Hello\", [50, 60, 70])\n",
        "print(a)\n",
        "print(a[4])"
      ],
      "metadata": {
        "colab": {
          "base_uri": "https://localhost:8080/"
        },
        "id": "T-G3teUqMC9Z",
        "outputId": "4fe12b58-b820-4861-9c1d-5f91b2c1e9ea"
      },
      "execution_count": null,
      "outputs": [
        {
          "output_type": "stream",
          "name": "stdout",
          "text": [
            "(10, 20, 30, 40, 'Hello', [50, 60, 70])\n",
            "Hello\n"
          ]
        }
      ]
    },
    {
      "cell_type": "markdown",
      "source": [
        "要素を変更・追加しようとするとエラーが発生"
      ],
      "metadata": {
        "id": "Afc0Fi3mMg-L"
      }
    },
    {
      "cell_type": "code",
      "source": [
        "# 例\n",
        "a = (1, 2, 3, 4, 5, 6)\n",
        "\n",
        "#　要素の変更\n",
        "a[0] = 9"
      ],
      "metadata": {
        "colab": {
          "base_uri": "https://localhost:8080/",
          "height": 208
        },
        "id": "vZxwy0xDMpaw",
        "outputId": "c4e356d2-1a8d-47f8-c4ca-b1fa6b030144"
      },
      "execution_count": null,
      "outputs": [
        {
          "output_type": "error",
          "ename": "TypeError",
          "evalue": "ignored",
          "traceback": [
            "\u001b[0;31m---------------------------------------------------------------------------\u001b[0m",
            "\u001b[0;31mTypeError\u001b[0m                                 Traceback (most recent call last)",
            "\u001b[0;32m<ipython-input-9-2a30636314da>\u001b[0m in \u001b[0;36m<cell line: 5>\u001b[0;34m()\u001b[0m\n\u001b[1;32m      3\u001b[0m \u001b[0;34m\u001b[0m\u001b[0m\n\u001b[1;32m      4\u001b[0m \u001b[0;31m#要素の変更\u001b[0m\u001b[0;34m\u001b[0m\u001b[0;34m\u001b[0m\u001b[0m\n\u001b[0;32m----> 5\u001b[0;31m \u001b[0ma\u001b[0m\u001b[0;34m[\u001b[0m\u001b[0;36m0\u001b[0m\u001b[0;34m]\u001b[0m \u001b[0;34m=\u001b[0m \u001b[0;36m9\u001b[0m\u001b[0;34m\u001b[0m\u001b[0;34m\u001b[0m\u001b[0m\n\u001b[0m",
            "\u001b[0;31mTypeError\u001b[0m: 'tuple' object does not support item assignment"
          ]
        }
      ]
    },
    {
      "cell_type": "code",
      "source": [
        "# 例\n",
        "a = (1, 2, 3, 4)\n",
        "\n",
        "# 要素の追加\n",
        "a.append(\"Hello\")"
      ],
      "metadata": {
        "colab": {
          "base_uri": "https://localhost:8080/",
          "height": 208
        },
        "id": "2ohdrAD_NCsc",
        "outputId": "573ea026-9f5b-48fa-f4ec-046b600e7cc0"
      },
      "execution_count": null,
      "outputs": [
        {
          "output_type": "error",
          "ename": "AttributeError",
          "evalue": "ignored",
          "traceback": [
            "\u001b[0;31m---------------------------------------------------------------------------\u001b[0m",
            "\u001b[0;31mAttributeError\u001b[0m                            Traceback (most recent call last)",
            "\u001b[0;32m<ipython-input-11-4978b5a504e4>\u001b[0m in \u001b[0;36m<cell line: 5>\u001b[0;34m()\u001b[0m\n\u001b[1;32m      3\u001b[0m \u001b[0;34m\u001b[0m\u001b[0m\n\u001b[1;32m      4\u001b[0m \u001b[0;31m# 要素の追加\u001b[0m\u001b[0;34m\u001b[0m\u001b[0;34m\u001b[0m\u001b[0m\n\u001b[0;32m----> 5\u001b[0;31m \u001b[0ma\u001b[0m\u001b[0;34m.\u001b[0m\u001b[0mappend\u001b[0m\u001b[0;34m(\u001b[0m\u001b[0;34m\"Hello\"\u001b[0m\u001b[0;34m)\u001b[0m\u001b[0;34m\u001b[0m\u001b[0;34m\u001b[0m\u001b[0m\n\u001b[0m",
            "\u001b[0;31mAttributeError\u001b[0m: 'tuple' object has no attribute 'append'"
          ]
        }
      ]
    },
    {
      "cell_type": "markdown",
      "source": [
        "##**07. 辞書**\n",
        "\n",
        "キーと値の組み合わせでデータを格納する  \n",
        "全体を`{}`で囲み、`キー:値`を`,`で区切る"
      ],
      "metadata": {
        "id": "0ahzPZ60NiAD"
      }
    },
    {
      "cell_type": "code",
      "source": [
        "# 例\n",
        "a = {\"apple\":100, \"orange\":200}\n",
        "\n",
        "# \"apple\"の持つ値を取得\n",
        "print(a[\"apple\"])\n",
        "\n",
        "# 要素の変更\n",
        "a[\"apple\"] = 300\n",
        "print(a[\"apple\"])\n",
        "\n",
        "# 要素の追加\n",
        "a[\"lemon\"] = 400\n",
        "print(a)"
      ],
      "metadata": {
        "colab": {
          "base_uri": "https://localhost:8080/"
        },
        "id": "0dbCY0-sOXJt",
        "outputId": "2e645670-72a7-4de8-e2c9-16e61779b880"
      },
      "execution_count": null,
      "outputs": [
        {
          "output_type": "stream",
          "name": "stdout",
          "text": [
            "100\n",
            "300\n",
            "{'apple': 300, 'orange': 200, 'lemon': 400}\n"
          ]
        }
      ]
    },
    {
      "cell_type": "markdown",
      "source": [
        "##**08. if文**\n",
        "\n",
        "条件分岐を行う  \n",
        "`True`であれば`if`の次の処理が、`False`であれば`else`の次の処理が実行されます。  \n",
        "\n",
        "**注意**  \n",
        "* `if 条件式: `・`elif 条件式:`・`else:`のように行末には`:`が必要\n",
        "* 処理を書くときは、行頭にインデント（半角スペース4つ）が必要"
      ],
      "metadata": {
        "id": "mexqNdmrP65f"
      }
    },
    {
      "cell_type": "code",
      "source": [
        "# 例\n",
        "a = 10\n",
        "\n",
        "# 条件がTrueの時\n",
        "if a == 10:\n",
        "    print(\"aは10と等しい\")\n",
        "else:\n",
        "    print(\"aは10と等しくない\")\n",
        "\n",
        "# 条件がFalseの時\n",
        "if a > 20:\n",
        "    print(\"aは20より大きい\")\n",
        "else:\n",
        "    print(\"aは20より大きくない\")\n",
        "\n",
        "# ３つ以上の分岐を行う時\n",
        "if a > 20:\n",
        "    print(\"aは20より大きい\")\n",
        "elif a >= 10:\n",
        "    print(\"aは10以上の数\")\n",
        "else:\n",
        "    print(\"aは10未満の数\")"
      ],
      "metadata": {
        "colab": {
          "base_uri": "https://localhost:8080/"
        },
        "id": "SOriOBF5RT93",
        "outputId": "ca6d1211-64ae-491f-a21c-4e0573cc700b"
      },
      "execution_count": null,
      "outputs": [
        {
          "output_type": "stream",
          "name": "stdout",
          "text": [
            "aは10と等しい\n",
            "aは20より大きくない\n",
            "aは10以上の数\n"
          ]
        }
      ]
    },
    {
      "cell_type": "markdown",
      "source": [
        "##**09. for文**\n",
        "\n",
        "同じ処理を繰り返し実行する\n",
        "\n",
        "**注意**  \n",
        "* `for 変数名 in リスト: `のように行末に`:`が必要\n",
        "* 処理を書くときは、行頭にインデント（半角スペース4つ）が必要\n",
        "\n"
      ],
      "metadata": {
        "id": "qvdG-eevYj3m"
      }
    },
    {
      "cell_type": "code",
      "source": [
        "# 例\n",
        "a = [1, 2, 3]\n",
        "\n",
        "for i in a:\n",
        "    print(i * 10)"
      ],
      "metadata": {
        "colab": {
          "base_uri": "https://localhost:8080/"
        },
        "id": "ESBRJ3xsZwa8",
        "outputId": "4b40f13e-1055-4aa4-96b0-43c844952e2c"
      },
      "execution_count": null,
      "outputs": [
        {
          "output_type": "stream",
          "name": "stdout",
          "text": [
            "10\n",
            "20\n",
            "30\n"
          ]
        }
      ]
    },
    {
      "cell_type": "markdown",
      "source": [
        "ループ内で連番の整数を使う場合は、`range`を使用する"
      ],
      "metadata": {
        "id": "oDyEdREdaQsk"
      }
    },
    {
      "cell_type": "code",
      "source": [
        "# 例\n",
        "for i in range(0, 10):  # 変数iに0以上10未満の整数が入る\n",
        "    print(i * 10)"
      ],
      "metadata": {
        "colab": {
          "base_uri": "https://localhost:8080/"
        },
        "id": "JdulnusPad2v",
        "outputId": "1d3bee4c-e293-4e2e-cc3c-148548f81d37"
      },
      "execution_count": null,
      "outputs": [
        {
          "output_type": "stream",
          "name": "stdout",
          "text": [
            "0\n",
            "10\n",
            "20\n",
            "30\n",
            "40\n",
            "50\n",
            "60\n",
            "70\n",
            "80\n",
            "90\n"
          ]
        }
      ]
    },
    {
      "cell_type": "markdown",
      "source": [
        "if文と組み合わせることで、条件を満たした処理のみをループ内で実行できる"
      ],
      "metadata": {
        "id": "PAAU4cSzeZYN"
      }
    },
    {
      "cell_type": "code",
      "source": [
        "# 例\n",
        "a = []\n",
        "for i in range(0, 100):\n",
        "    if i%2 == 0:\n",
        "        a.append(i)\n",
        "\n",
        "print(a)"
      ],
      "metadata": {
        "colab": {
          "base_uri": "https://localhost:8080/"
        },
        "id": "7xyzAIRWerC3",
        "outputId": "6194c21d-602f-4f76-f88f-26656ff4bc32"
      },
      "execution_count": null,
      "outputs": [
        {
          "output_type": "stream",
          "name": "stdout",
          "text": [
            "[0, 2, 4, 6, 8, 10, 12, 14, 16, 18, 20, 22, 24, 26, 28, 30, 32, 34, 36, 38, 40, 42, 44, 46, 48, 50, 52, 54, 56, 58, 60, 62, 64, 66, 68, 70, 72, 74, 76, 78, 80, 82, 84, 86, 88, 90, 92, 94, 96, 98]\n"
          ]
        }
      ]
    },
    {
      "cell_type": "markdown",
      "source": [
        "##**10. while文**\n",
        "\n",
        "条件が満たされている間ループする  \n",
        "\n",
        "**注意**  \n",
        "* `while 条件式: `のように行末に`:`が必要\n",
        "* 処理を書くときは、行頭にインデント（半角スペース4つ）が必要"
      ],
      "metadata": {
        "id": "YKBAgTFDbb8B"
      }
    },
    {
      "cell_type": "code",
      "source": [
        "# 例\n",
        "\n",
        "# 10未満の間ループ\n",
        "a = 0\n",
        "while a < 10:\n",
        "    print(a)\n",
        "    a += 1"
      ],
      "metadata": {
        "colab": {
          "base_uri": "https://localhost:8080/"
        },
        "id": "gK9xRdyncBQy",
        "outputId": "153957ad-87ec-4105-c57f-98235124aec3"
      },
      "execution_count": null,
      "outputs": [
        {
          "output_type": "stream",
          "name": "stdout",
          "text": [
            "0\n",
            "1\n",
            "2\n",
            "3\n",
            "4\n",
            "5\n",
            "6\n",
            "7\n",
            "8\n",
            "9\n"
          ]
        }
      ]
    },
    {
      "cell_type": "markdown",
      "source": [
        "##**11. 関数**\n",
        "\n",
        "ある処理をまとめたプログラムの塊（`print` etc.）  \n",
        "\n",
        "**書き方**  \n",
        "\n",
        "* `def 関数名(引数):`で定義する\n",
        "* 処理の行頭にインデント（半角スペース４つ）  \n",
        "\n",
        "\n",
        "\n",
        "\n"
      ],
      "metadata": {
        "id": "y7sGTl9u8S-5"
      }
    },
    {
      "cell_type": "code",
      "source": [
        "# 例\n",
        "def say_hello():\n",
        "    print(\"Hello\")\n",
        "\n",
        "say_hello()\n",
        "\n",
        "def print_hand(a): # 外部からの値を引数として受け取れる\n",
        "    print(a)\n",
        "\n",
        "print_hand(\"グー\")\n",
        "\n",
        "def sum_number(a, b, c): # 引数が複数の場合は、カンマで区切る\n",
        "    d = a + b + c\n",
        "    print(d)\n",
        "\n",
        "sum_number(1, 2, 3)\n",
        "\n",
        "def mean_number(a, b):\n",
        "    m = (a + b) / 2\n",
        "    return m             #return(戻り値）で外部に値を渡す\n",
        "\n",
        "mean_number(10, 20)"
      ],
      "metadata": {
        "colab": {
          "base_uri": "https://localhost:8080/"
        },
        "id": "iEkYSt_F9KAt",
        "outputId": "73999bc8-ecee-456f-c0e9-55e1ed9067a8"
      },
      "execution_count": null,
      "outputs": [
        {
          "output_type": "stream",
          "name": "stdout",
          "text": [
            "Hello\n",
            "グー\n",
            "6\n"
          ]
        },
        {
          "output_type": "execute_result",
          "data": {
            "text/plain": [
              "15.0"
            ]
          },
          "metadata": {},
          "execution_count": 5
        }
      ]
    },
    {
      "cell_type": "markdown",
      "source": [
        "##**12. 変数のスコープ**\n",
        "\n",
        "* **グローバル変数**  \n",
        "関数の外で定義された変数 → **関数の外・内**どちらでも呼び出せる\n",
        "\n",
        "* **ローカル変数**  \n",
        "関数の内側で定義された変数 → **関数の内側**でしか使えない"
      ],
      "metadata": {
        "id": "CHMiue1aDRc9"
      }
    },
    {
      "cell_type": "code",
      "source": [
        "# 例\n",
        "glob_1 = 10 #グローバル変数\n",
        "\n",
        "def number():\n",
        "    loc_1 = 20          # ローカル変数\n",
        "    print(glob_1, loc_1)\n",
        "\n",
        "number()"
      ],
      "metadata": {
        "colab": {
          "base_uri": "https://localhost:8080/"
        },
        "id": "qoAHNobsEkTl",
        "outputId": "1a440bf8-df25-470e-c34e-b1d497a5ae05"
      },
      "execution_count": null,
      "outputs": [
        {
          "output_type": "stream",
          "name": "stdout",
          "text": [
            "10 20\n"
          ]
        }
      ]
    },
    {
      "cell_type": "code",
      "source": [
        "# 例\n",
        "glob_1 = 10 #グローバル変数\n",
        "\n",
        "def number():\n",
        "    loc_1 = 20          # ローカル変数\n",
        "\n",
        "print(glob_1)\n",
        "print(loc_1)"
      ],
      "metadata": {
        "colab": {
          "base_uri": "https://localhost:8080/",
          "height": 226
        },
        "id": "GfdEGt8TFZ3S",
        "outputId": "27ab4a49-3c07-4bfc-f6a8-ca5ee83f2bdd"
      },
      "execution_count": null,
      "outputs": [
        {
          "output_type": "stream",
          "name": "stdout",
          "text": [
            "10\n"
          ]
        },
        {
          "output_type": "error",
          "ename": "NameError",
          "evalue": "ignored",
          "traceback": [
            "\u001b[0;31m---------------------------------------------------------------------------\u001b[0m",
            "\u001b[0;31mNameError\u001b[0m                                 Traceback (most recent call last)",
            "\u001b[0;32m<ipython-input-8-bfd992457c88>\u001b[0m in \u001b[0;36m<cell line: 8>\u001b[0;34m()\u001b[0m\n\u001b[1;32m      6\u001b[0m \u001b[0;34m\u001b[0m\u001b[0m\n\u001b[1;32m      7\u001b[0m \u001b[0mprint\u001b[0m\u001b[0;34m(\u001b[0m\u001b[0mglob_1\u001b[0m\u001b[0;34m)\u001b[0m\u001b[0;34m\u001b[0m\u001b[0;34m\u001b[0m\u001b[0m\n\u001b[0;32m----> 8\u001b[0;31m \u001b[0mprint\u001b[0m\u001b[0;34m(\u001b[0m\u001b[0mloc_1\u001b[0m\u001b[0;34m)\u001b[0m\u001b[0;34m\u001b[0m\u001b[0;34m\u001b[0m\u001b[0m\n\u001b[0m",
            "\u001b[0;31mNameError\u001b[0m: name 'loc_1' is not defined"
          ]
        }
      ]
    },
    {
      "cell_type": "markdown",
      "source": [
        "##**13. クラス**\n",
        "\n",
        "複数の**メソッド**（関数のようなもの）をまとめることができる  \n",
        "\n",
        "**書き方**  \n",
        "* `class クラス名:`で定義する  \n",
        "* メソッドは関数と同様に`def メソッド名():`で定義する"
      ],
      "metadata": {
        "id": "7UNCzWQ9F_uZ"
      }
    },
    {
      "cell_type": "code",
      "source": [
        "# 例\n",
        "class MenuItem: # クラス名の頭文字は大文字\n",
        "    def item(self, name, price):  # メソッド\n",
        "        print(name + \"は、\" + str(price) + \"円です\") # str()は文字列型に変換\n",
        "\n",
        "m = MenuItem() # インスタンスを生成\n",
        "m.item(\"apple\", 100)"
      ],
      "metadata": {
        "colab": {
          "base_uri": "https://localhost:8080/"
        },
        "id": "WlXmRtjDOjFr",
        "outputId": "1ae5a2cc-bd05-4c18-bec6-366680c62d5f"
      },
      "execution_count": null,
      "outputs": [
        {
          "output_type": "stream",
          "name": "stdout",
          "text": [
            "appleは、100円です\n"
          ]
        }
      ]
    },
    {
      "cell_type": "markdown",
      "source": [
        "メソッドの最初の引数は、`self`と書く必要がある  \n",
        "この`self`を用いて、インスタンスは値を保持する  \n",
        "インスタンス内で値を保持する変数を、**インスタンス変数**と言う"
      ],
      "metadata": {
        "id": "1tX_b9ItRQ2w"
      }
    },
    {
      "cell_type": "code",
      "source": [
        "# 例\n",
        "class MenuItem:\n",
        "    def item(self, n, p):\n",
        "        self.name = n # nameがインスタンス変数\n",
        "        self.price = p  # priceがインスタンス変数\n",
        "\n",
        "m = MenuItem()\n",
        "m.item(\"apple\", 100)\n",
        "\n",
        "# インスタンス変数の値を表示\n",
        "print(m.name) \n",
        "print(m.price)\n",
        "\n",
        "# インスタンス変数の値を変更\n",
        "m.price = 200\n",
        "print(m.price)"
      ],
      "metadata": {
        "colab": {
          "base_uri": "https://localhost:8080/"
        },
        "id": "GLt-UG_NR0mI",
        "outputId": "ea5f0080-aff9-4002-ca33-8af3d41a9789"
      },
      "execution_count": null,
      "outputs": [
        {
          "output_type": "stream",
          "name": "stdout",
          "text": [
            "apple\n",
            "100\n",
            "200\n"
          ]
        }
      ]
    },
    {
      "cell_type": "markdown",
      "source": [
        "インスタンス変数は、インスタンスごとに異なる値を設定できる"
      ],
      "metadata": {
        "id": "30goLdgDTU18"
      }
    },
    {
      "cell_type": "code",
      "source": [
        "# 例\n",
        "class MenuItem:\n",
        "    def item(self, n, p):\n",
        "        self.name = n\n",
        "        self.price = p\n",
        "\n",
        "m_1 = MenuItem()\n",
        "m_1.item(\"apple\", 100)\n",
        "\n",
        "m_2 = MenuItem()\n",
        "m_2.item(\"orange\", 200)\n",
        "\n",
        "menuitems = [m_1, m_2]\n",
        "for m in menuitems:\n",
        "    print(m.name + \"は、\" + str(m.price) + \"円です\")\n"
      ],
      "metadata": {
        "colab": {
          "base_uri": "https://localhost:8080/"
        },
        "id": "Vdfb5KIgTgqb",
        "outputId": "461a894d-b509-45d8-8c8c-abdf51998ff3"
      },
      "execution_count": null,
      "outputs": [
        {
          "output_type": "stream",
          "name": "stdout",
          "text": [
            "appleは、100円です\n",
            "orangeは、200円です\n"
          ]
        }
      ]
    },
    {
      "cell_type": "markdown",
      "source": [
        "### **特殊なメソッド**"
      ],
      "metadata": {
        "id": "kUI2df61nIot"
      }
    },
    {
      "cell_type": "markdown",
      "source": [
        "#### `__init__`メソッド  \n",
        "\n",
        "（イニシャライザまたはコンストラクタとも呼ばれる）  \n",
        "インスタンスが生成された直後に**`__init__`メソッド**が呼び出され処理が実行される"
      ],
      "metadata": {
        "id": "GfRXG9n1r8ej"
      }
    },
    {
      "cell_type": "code",
      "source": [
        "class MenuItem:\n",
        "    def __init__(self, n):\n",
        "        self.name = n\n",
        "\n",
        "    def item(self, p):\n",
        "        print(self.name + \"は、\" + str(p) + \"円です\")\n",
        "\n",
        "m = MenuItem(\"aplle\")\n",
        "print(m.name)\n",
        "m.item(100)"
      ],
      "metadata": {
        "colab": {
          "base_uri": "https://localhost:8080/"
        },
        "id": "rs1d1QVFoXfW",
        "outputId": "49a75712-c864-40a6-bf4d-5814bb5d2d10"
      },
      "execution_count": null,
      "outputs": [
        {
          "output_type": "stream",
          "name": "stdout",
          "text": [
            "aplle\n",
            "aplleは、100円です\n"
          ]
        }
      ]
    },
    {
      "cell_type": "markdown",
      "source": [
        "#### `__call__`メソッド\n",
        "\n",
        "インスタンス名を使って呼び出すことができる"
      ],
      "metadata": {
        "id": "cbMucXg-qffk"
      }
    },
    {
      "cell_type": "code",
      "source": [
        "class MenuItem:\n",
        "    def __call__(self, n, p):\n",
        "        print(n + \"は、\" + str(p) + \"円です\")\n",
        "\n",
        "m = MenuItem()\n",
        "m(\"aplle\", 100)"
      ],
      "metadata": {
        "colab": {
          "base_uri": "https://localhost:8080/"
        },
        "id": "l1ti3MWBqzVj",
        "outputId": "230c2c8e-4da9-4f51-c591-663747cac2c2"
      },
      "execution_count": null,
      "outputs": [
        {
          "output_type": "stream",
          "name": "stdout",
          "text": [
            "aplleは、100円です\n"
          ]
        }
      ]
    },
    {
      "cell_type": "markdown",
      "source": [
        "##**14. ファイルの保存と読み込み**\n",
        "\n",
        "with構文を用いることで、ファイルの保存や読み込みを簡潔に記述できる"
      ],
      "metadata": {
        "id": "_rRu-g1ba8Qo"
      }
    },
    {
      "cell_type": "code",
      "source": [
        "# 例\n",
        "greetings = \"Hello World\"\n",
        "\n",
        "with open(\"greetings.text\", \"w\") as f:\n",
        "    f.write(greetings) #　ファイルに保存"
      ],
      "metadata": {
        "id": "_0igERombfZ2"
      },
      "execution_count": null,
      "outputs": []
    },
    {
      "cell_type": "code",
      "source": [
        "with open(\"greetings.text\", \"r\") as f:\n",
        "    print(f.read()) #ファイルの読み込み"
      ],
      "metadata": {
        "colab": {
          "base_uri": "https://localhost:8080/"
        },
        "id": "j8AKeK4tchRw",
        "outputId": "bc198d4a-cee8-4667-a72e-94ac35908692"
      },
      "execution_count": null,
      "outputs": [
        {
          "output_type": "stream",
          "name": "stdout",
          "text": [
            "Hello World\n"
          ]
        }
      ]
    }
  ]
}