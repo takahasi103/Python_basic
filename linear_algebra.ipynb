{
  "nbformat": 4,
  "nbformat_minor": 0,
  "metadata": {
    "colab": {
      "provenance": [],
      "authorship_tag": "ABX9TyP6HRnO7rv4f76n86aga65B",
      "include_colab_link": true
    },
    "kernelspec": {
      "name": "python3",
      "display_name": "Python 3"
    },
    "language_info": {
      "name": "python"
    }
  },
  "cells": [
    {
      "cell_type": "markdown",
      "metadata": {
        "id": "view-in-github",
        "colab_type": "text"
      },
      "source": [
        "<a href=\"https://colab.research.google.com/github/takahasi103/Python_basic/blob/main/linear_algebra.ipynb\" target=\"_parent\"><img src=\"https://colab.research.google.com/assets/colab-badge.svg\" alt=\"Open In Colab\"/></a>"
      ]
    },
    {
      "cell_type": "markdown",
      "source": [
        "#スカラー\n",
        "* スカラー（scalar）は1、5、1.2、-7などの通常の数値のこと"
      ],
      "metadata": {
        "id": "zkNv9D__Yt3t"
      }
    },
    {
      "cell_type": "code",
      "source": [
        "a = 1\n",
        "b = 1.5\n",
        "c = -2\n",
        "d = 1.5e5 # 1.5x10の5乗"
      ],
      "metadata": {
        "id": "jf957eZ4ZOQj"
      },
      "execution_count": null,
      "outputs": []
    },
    {
      "cell_type": "markdown",
      "source": [
        "# ベクトル\n",
        "* ベクトルは、スカラーを直線上に並べたもの"
      ],
      "metadata": {
        "id": "4CzmDYkkZpgR"
      }
    },
    {
      "cell_type": "markdown",
      "source": [
        " $$ \\begin{aligned}\n",
        " \\vec{p} & = \\left(\n",
        "    \\begin{array}{c}\n",
        "      p_1 \\\\\n",
        "      p_2 \\\\\n",
        "      \\vdots \\\\\n",
        "      p_m\n",
        "    \\end{array}\n",
        " \\right) \\\\\n",
        "\\vec{q} & = (q_1, q_2, \\cdots, q_n)\n",
        "\\end{aligned} $$"
      ],
      "metadata": {
        "id": "dOQZXwWwZ6i5"
      }
    },
    {
      "cell_type": "markdown",
      "source": [
        "ベクトルには、上記の$\\vec{p}$のように縦に数値を並べる縦ベクトルと、$\\vec{q}$のように横に数値を並べる横ベクトルがあります。  \n",
        "また、$\\vec{p}$、$\\vec{q}$に見られるように、ベクトルの要素を変数で表す際の添字の数は1つです。"
      ],
      "metadata": {
        "id": "P45SiHpVaPxc"
      }
    },
    {
      "cell_type": "code",
      "source": [
        "import numpy as np\n",
        "\n",
        "a = np.array([1, 2, 3, 4, 5, 6])\n",
        "print(a)"
      ],
      "metadata": {
        "colab": {
          "base_uri": "https://localhost:8080/"
        },
        "id": "XnuVGBjIa0SI",
        "outputId": "f42fdabe-ba02-442a-a29a-f9e8899089e7"
      },
      "execution_count": null,
      "outputs": [
        {
          "output_type": "stream",
          "name": "stdout",
          "text": [
            "[1 2 3 4 5 6]\n"
          ]
        }
      ]
    },
    {
      "cell_type": "markdown",
      "source": [
        "# 行列\n",
        "* 行列はスカラーを格子状に並べたもので、例えば以下のように表記します。\n",
        "\n",
        "$$\n",
        "   \\left(\n",
        "    \\begin{array}{cccc}\n",
        "      0 & 1 & 2 & 3 \\\\\n",
        "      4 & 5 & 5 & 6 \\\\\n",
        "      7 & 8 & 9 & 10 \\\\\n",
        "    \\end{array}\n",
        "  \\right)\n",
        "$$"
      ],
      "metadata": {
        "id": "TIKi5L8Ve5ap"
      }
    },
    {
      "cell_type": "markdown",
      "source": [
        "行は、上から1行目、2行目、3行目...と数えます。列は、左から1列目、2列目、3列目...と数えます。また、行がm個、列がn個並んでいる行列を、m x nの行列と表現します。"
      ],
      "metadata": {
        "id": "yPC-Rs4ahtg1"
      }
    },
    {
      "cell_type": "markdown",
      "source": [
        "$$\n",
        "   A = \\left(\n",
        "    \\begin{array}{cccc}\n",
        "      0 & 1 & 2 \\\\\n",
        "      3 & 4 & 5 \\\\\n",
        "    \\end{array}\n",
        "  \\right)\n",
        "$$\n",
        "$$\n",
        "   P = \\left(\n",
        "    \\begin{array}{cccc}\n",
        "      p_{11} & p_{12} & \\ldots & p_{1n} \\\\\n",
        "      p_{21} & p_{22} & \\ldots & p_{2n} \\\\\n",
        "      \\vdots & \\vdots & \\ddots & \\vdots \\\\\n",
        "      p_{m1} & p_{m2} & \\ldots & p_{mn} \\\\\n",
        "    \\end{array}\n",
        "  \\right)\n",
        "$$\n",
        "\n",
        "行列$A$は2x3の行列で、行列$P$はm x nの行列です。  \n",
        "また、$P$に見られるように、行列の要素を変数で表す際の添字の数は2つです。"
      ],
      "metadata": {
        "id": "YWBETO-CiBYq"
      }
    },
    {
      "cell_type": "code",
      "source": [
        "import numpy as np\n",
        "\n",
        "a = np.array([[0, 1, 2],\n",
        "              [3, 4, 5]]) # 2x3の行列\n",
        "print(a)\n",
        "print()\n",
        "\n",
        "b = np.array([[0, 1],\n",
        "              [2, 3],\n",
        "              [4, 5]]) # 3x2の行列\n",
        "print(b)"
      ],
      "metadata": {
        "colab": {
          "base_uri": "https://localhost:8080/"
        },
        "id": "UQLA3LVPiIC7",
        "outputId": "3b77d454-d974-48cb-f4cc-126fa6e2a76c"
      },
      "execution_count": null,
      "outputs": [
        {
          "output_type": "stream",
          "name": "stdout",
          "text": [
            "[[0 1 2]\n",
            " [3 4 5]]\n",
            "\n",
            "[[0 1]\n",
            " [2 3]\n",
            " [4 5]]\n"
          ]
        }
      ]
    },
    {
      "cell_type": "markdown",
      "source": [
        "# テンソル\n",
        "* テンソルはスカラーを複数の次元に並べたもので、スカラー、ベクトル、行列を含みます。"
      ],
      "metadata": {
        "id": "gWLOPnDKixyj"
      }
    },
    {
      "cell_type": "markdown",
      "source": [
        "<img src=\"https://drive.google.com/uc?id=1AEjps0YRxZzD2Ol_rQE7tWDxnvb3Mx4P\">"
      ],
      "metadata": {
        "id": "h8K4jnodjRui"
      }
    },
    {
      "cell_type": "markdown",
      "source": [
        "各要素につく添字の数を、そのテンソルの階数といいます。スカラーには添字がないので0階のテンソル、ベクトルは添字が1つなので1階のテンソル、行列は添字が2つなので2階のテンソルになります。より高次元なものは、3階のテンソル、4階のテンソル...となります。"
      ],
      "metadata": {
        "id": "pnKnYS_Zjist"
      }
    },
    {
      "cell_type": "code",
      "source": [
        "import numpy as np\n",
        "\n",
        "a = np.array([[[0, 1, 2, 3],\n",
        "               [4, 5, 6, 7],\n",
        "               [8, 9, 10, 11]],\n",
        "\n",
        "              [[11, 10, 9, 8],\n",
        "               [7, 6, 5, 4],\n",
        "               [3, 2, 1, 0]]]) # (2, 3, 4)の3階のテンソル\n",
        "print(a)"
      ],
      "metadata": {
        "colab": {
          "base_uri": "https://localhost:8080/"
        },
        "id": "gLfHPoOJjr7z",
        "outputId": "98bce304-19a2-4160-a1bc-f9cb3a610963"
      },
      "execution_count": null,
      "outputs": [
        {
          "output_type": "stream",
          "name": "stdout",
          "text": [
            "[[[ 0  1  2  3]\n",
            "  [ 4  5  6  7]\n",
            "  [ 8  9 10 11]]\n",
            "\n",
            " [[11 10  9  8]\n",
            "  [ 7  6  5  4]\n",
            "  [ 3  2  1  0]]]\n"
          ]
        }
      ]
    },
    {
      "cell_type": "markdown",
      "source": [
        "# ベクトルの内積とノルム"
      ],
      "metadata": {
        "id": "FbT4BLr-2-g7"
      }
    },
    {
      "cell_type": "markdown",
      "source": [
        "### 内積\n",
        "内積はベクトル同士の積の一種ですが、次のように定義されます。\n",
        "\n",
        "$$ \\begin{aligned}\n",
        "\\vec{a} & = (a_1, a_2, \\cdots, a_n) \\\\\n",
        "\\vec{b} & = (b_1, b_2, \\cdots, b_n)\n",
        "\\end{aligned} $$\n",
        "\n",
        "のとき、\n",
        "\n",
        "$$ \\begin{aligned}\n",
        "\\vec{a}\\cdot\\vec{b} & = (a_1, a_2, \\cdots, a_n)\\cdot(b_1, b_2, \\cdots, b_n) \\\\\n",
        "& = (a_1b_1+a_2b_2+\\cdots+a_nb_n) \\\\\n",
        "& = \\sum_{k=1}^n a_kb_k\n",
        "\\end{aligned} $$\n",
        "\n",
        "内積をとる際は、2つのベクトルの要素数が同じである必要があります。  \n",
        "内積は、2つのベクトルの相関を求める際に使用します。"
      ],
      "metadata": {
        "id": "cfed0bMM3EPl"
      }
    },
    {
      "cell_type": "markdown",
      "source": [
        "numpyの**dot関数**で内積を求めることができる。"
      ],
      "metadata": {
        "id": "u8U6a71l3l70"
      }
    },
    {
      "cell_type": "code",
      "source": [
        "import numpy as np\n",
        "\n",
        "a = np.array([1, 2, 3, 4])\n",
        "b = np.array([4, 3, 2, 1])\n",
        "\n",
        "print(np.dot(a, b)) # ベクトルaとbの内積"
      ],
      "metadata": {
        "colab": {
          "base_uri": "https://localhost:8080/"
        },
        "id": "WCUrJfuR34bW",
        "outputId": "5aeaae39-5d3e-4a94-c44d-7c1d0cbf8247"
      },
      "execution_count": null,
      "outputs": [
        {
          "output_type": "stream",
          "name": "stdout",
          "text": [
            "20\n"
          ]
        }
      ]
    },
    {
      "cell_type": "markdown",
      "source": [
        "### ノルム\n",
        "ノルムとはベクトルの「大きさ」を表す量です。  \n",
        "人工知能でよく使われるノルムに、「$L^2$ノルム」と「$L^1ノルム$」があります。"
      ],
      "metadata": {
        "id": "qbPWNzk651B3"
      }
    },
    {
      "cell_type": "markdown",
      "source": [
        "**$L^2$ノルム**  \n",
        "$L^2$ノルムは次のように$||x||_2$と表されます。ベクトルの各要素を2乗和し、平方根をとって計算します。\n",
        "\n",
        "$$ \\begin{aligned}\n",
        "||x||_2 & = \\sqrt {x_1^2+x_2^2+ \\cdots + x_n^2} \\\\\n",
        "& = \\sqrt {\\sum_{k=1}^n x_nk^2}\n",
        "\\end{aligned} $$\n",
        "\n",
        "**$L^1$ノルム**  \n",
        "$L^1$ノルムは次のように$||x||_1$と表されます。ベクトルの各要素の絶対値を足し合わせて計算します。\n",
        "\n",
        "$$ \\begin{aligned}\n",
        "||x||_1 & = |x_1|+|x_2|+ \\cdots + |x_n| \\\\\n",
        "& = \\sum_{k=1}^n |x_k|\n",
        "\\end{aligned} $$\n",
        "\n",
        "**一般化されたノルム**  \n",
        "ノルムをより一般化した$L^p$は以下のように表されます。\n",
        "\n",
        "$$ \\begin{aligned}\n",
        "||x||_p & = (x_1^p+x_2^p+ \\cdots + x_n^p)^{\\frac{1}{p}} \\\\\n",
        "& = (\\sum_{k=1}^n |x_k|^p)^{\\frac{1}{p}}\n",
        "\\end{aligned} $$\n",
        "\n",
        "ノルムは、ディープラーニングにおいて「**正則化**」に使われます。  \n",
        "正則化とは、必要以上にネットワークの学習が進んでいしまうことをパラメータを調節することにより予防することです。"
      ],
      "metadata": {
        "id": "MD8kT4WT5-Xh"
      }
    },
    {
      "cell_type": "markdown",
      "source": [
        "numpyの**linalg.norm関数**を用いて求めることができます"
      ],
      "metadata": {
        "id": "IWTJko7z9Nkk"
      }
    },
    {
      "cell_type": "code",
      "source": [
        "import numpy as np\n",
        "\n",
        "a = np.array([1, 1, -1, -1])\n",
        "\n",
        "print(np.linalg.norm(a))  # L2ノルム\n",
        "print(np.linalg.norm(a, 1))  # L1ノルム"
      ],
      "metadata": {
        "colab": {
          "base_uri": "https://localhost:8080/"
        },
        "id": "M0wUB3LH9RUK",
        "outputId": "a8cda15c-5c41-4257-b308-4c1e8c076310"
      },
      "execution_count": null,
      "outputs": [
        {
          "output_type": "stream",
          "name": "stdout",
          "text": [
            "2.0\n",
            "4.0\n"
          ]
        }
      ]
    },
    {
      "cell_type": "markdown",
      "source": [
        "# 行列の積"
      ],
      "metadata": {
        "id": "USY_9kafcJB1"
      }
    },
    {
      "cell_type": "markdown",
      "source": [
        "「行列の積」という場合、次の図で示すような少々複雑な演算を指します。  \n",
        "<img src=\"https://drive.google.com/uc?id=17Zn59TrNeEuD2P3PjnF1RnnmkCZNGicc\">  \n",
        "\n",
        "行列積では、前の行列における行の各要素と、後の行列における列の各要素を掛け合わせて総和をとり、新しい行列の要素とします。上の図では左の行列の1行目と右の行列の1列目を演算していますが、下の図では左の行列の1行目と右の行列の2列目を演算しています。\n",
        "<img src=\"https://drive.google.com/uc?id=1o9eVnnmYFOWyF9Qaco7yqOQs2_FUu2AY\">  \n",
        "このようにして、左の行列の全ての行と、右の行列の全ての列の組み合わせで演算を行い、新たな行列を作ります。"
      ],
      "metadata": {
        "id": "3zFwi8o8gEe2"
      }
    },
    {
      "cell_type": "markdown",
      "source": [
        "$A$は2x3の行列で、$B$は3x2の行列です。\n",
        "$$\n",
        "   A = \\left(\n",
        "    \\begin{array}{ccc}\n",
        "      a_{11} & a_{12} & a_{13} \\\\\n",
        "      a_{21} & a_{22} & a_{23} \\\\\n",
        "    \\end{array}\n",
        "  \\right)\n",
        "$$\n",
        "\n",
        "$$\n",
        "   B = \\left(\n",
        "    \\begin{array}{cc}\n",
        "      b_{11} & b_{12} \\\\\n",
        "      b_{21} & b_{22} \\\\\n",
        "      b_{31} & b_{32} \\\\\n",
        "    \\end{array}\n",
        "  \\right)\n",
        "$$\n",
        "  \n",
        "そして、$A$と$B$の積を次のように表します。\n",
        "\n",
        "$$\n",
        "   AB = \\left(\n",
        "    \\begin{array}{ccc}\n",
        "      a_{11} & a_{12} & a_{13} \\\\\n",
        "      a_{21} & a_{22} & a_{23} \\\\\n",
        "    \\end{array}\n",
        "  \\right)\n",
        "  \\left(\n",
        "    \\begin{array}{cc}\n",
        "      b_{11} & b_{12} \\\\\n",
        "      b_{21} & b_{22} \\\\\n",
        "      b_{31} & b_{32} \\\\\n",
        "    \\end{array}\n",
        "  \\right) \\\\\n",
        " = \\left(\n",
        "    \\begin{array}{ccc}\n",
        "      a_{11}b_{11}+a_{12}b_{21}+a_{13}b_{31} & a_{11}b_{12}+a_{12}b_{22}+a_{13}b_{32} \\\\\n",
        "      a_{21}b_{11}+a_{22}b_{21}+a_{23}b_{31} & a_{21}b_{12}+a_{22}b_{22}+a_{23}b_{32} \\\\\n",
        "    \\end{array}\n",
        "  \\right) \\\\\n",
        " = \\left(\n",
        "    \\begin{array}{ccc}\n",
        "      \\sum\\limits_{k=1}^3 a_{1k}b_{k1} & \\sum\\limits_{k=1}^3 a_{1k}b_{k2} \\\\\n",
        "      \\sum\\limits_{k=1}^3 a_{2k}b_{k1} & \\sum\\limits_{k=1}^3 a_{2k}b_{k2} \\\\\n",
        "    \\end{array}\n",
        "  \\right)\n",
        "$$\n",
        "\n",
        "$A$の各行と$B$の各列の各要素を掛け合わせて総和をとり、新しい行列の各要素とします。  \n",
        "上記の行列積には総和の記号$\\Sigma$が登場していますが、行列積は積の総和を計算する際に大活躍します。"
      ],
      "metadata": {
        "id": "3CJHSsjoh3B7"
      }
    },
    {
      "cell_type": "markdown",
      "source": [
        "#### 行列積の数値計算\n",
        "$$  \\begin{aligned} \\\\\n",
        "AB & = \\left(\n",
        "    \\begin{array}{cc}\n",
        "      a_{11} & a_{12} & \\ldots & a_{1m} \\\\\n",
        "      a_{21} & a_{22} & \\ldots & a_{2m} \\\\\n",
        "      \\vdots & \\vdots & \\ddots & \\vdots \\\\\n",
        "      a_{l1} & a_{l2} & \\ldots & a_{lm} \\\\\n",
        "    \\end{array}\n",
        "  \\right)\n",
        "\\left(\n",
        "    \\begin{array}{cccc}\n",
        "      b_{11} & b_{12} & \\ldots & b_{1n} \\\\\n",
        "      b_{21} & b_{22} & \\ldots & b_{2n} \\\\\n",
        "      \\vdots & \\vdots & \\ddots & \\vdots \\\\\n",
        "      b_{m1} & b_{m2} & \\ldots & b_{mn} \\\\\n",
        "    \\end{array}\n",
        "  \\right) \\\\\n",
        "  & = \\left(\n",
        "    \\begin{array}{cccc}\n",
        "      \\sum\\limits_{k=1}^m a_{1k}b_{k1} & \\sum\\limits_{k=1}^m a_{1k}b_{k2} & \\ldots & \\sum\\limits_{k=1}^m a_{1k}b_{kn} \\\\\n",
        "       \\sum\\limits_{k=1}^m a_{2k}b_{k1} & \\sum\\limits_{k=1}^m a_{2k}b_{k2} & \\ldots & \\sum\\limits_{k=1}^m a_{2k}b_{kn} \\\\\n",
        "      \\vdots & \\vdots & \\ddots & \\vdots \\\\\n",
        "      \\sum\\limits_{k=1}^m a_{lk}b_{k1} & \\sum\\limits_{k=1}^m a_{lk}b_{k2} & \\ldots & \\sum\\limits_{k=1}^m a_{lk}b_{kn} \\\\\n",
        "    \\end{array}\n",
        "  \\right)\n",
        "  \\end{aligned}\n",
        "$$"
      ],
      "metadata": {
        "id": "890WjVLaiLZ0"
      }
    },
    {
      "cell_type": "markdown",
      "source": [
        "**行列積**をコードで実装  \n",
        "numpyの**dot関数**を用いれば、簡単に行列積を計算することができます。"
      ],
      "metadata": {
        "id": "2CppPrGMijD1"
      }
    },
    {
      "cell_type": "code",
      "source": [
        "import numpy as np\n",
        "\n",
        "a = np.array([[1, 2, 3],\n",
        "              [3, 2, 1]])\n",
        "\n",
        "b = np.array([[1, 2],\n",
        "              [1, 2],\n",
        "              [1, 2]])\n",
        "\n",
        "print(np.dot(a, b))"
      ],
      "metadata": {
        "colab": {
          "base_uri": "https://localhost:8080/"
        },
        "id": "RXMxkWG0i13c",
        "outputId": "c2bbc52b-6d2c-4858-b908-c6ec03a0363b"
      },
      "execution_count": null,
      "outputs": [
        {
          "output_type": "stream",
          "name": "stdout",
          "text": [
            "[[ 6 12]\n",
            " [ 6 12]]\n"
          ]
        }
      ]
    },
    {
      "cell_type": "markdown",
      "source": [
        "#### アダマール積(要素ごとの積)\n",
        "\n",
        "行列の各要素を掛け合わせます。"
      ],
      "metadata": {
        "id": "a6T1HhY8jmv3"
      }
    },
    {
      "cell_type": "markdown",
      "source": [
        "$$  \\begin{aligned} \\\\\n",
        "   A & = \\left(\n",
        "    \\begin{array}{cccc}\n",
        "      a_{11} & a_{12} & \\ldots & a_{1n} \\\\\n",
        "      a_{21} & a_{22} & \\ldots & a_{2n} \\\\\n",
        "      \\vdots & \\vdots & \\ddots & \\vdots \\\\\n",
        "      a_{m1} & a_{m2} & \\ldots & a_{mn}\n",
        "    \\end{array}\n",
        "  \\right) \\\\\n",
        "   B & = \\left(\n",
        "    \\begin{array}{cccc}\n",
        "      b_{11} & b_{12} & \\ldots & b_{1n} \\\\\n",
        "      b_{21} & b_{22} & \\ldots & b_{2n} \\\\\n",
        "      \\vdots & \\vdots & \\ddots & \\vdots \\\\\n",
        "      b_{m1} & b_{m2} & \\ldots & b_{mn}\n",
        "    \\end{array}\n",
        "  \\right)\n",
        "\\end{aligned} $$\n",
        "\n",
        "これらの行列の要素ごとの積は、演算子$\\circ$を用いて次のように表すことができます。\n",
        "\n",
        "$$\n",
        "   A\\circ B = \\left(\n",
        "    \\begin{array}{cccc}\n",
        "      a_{11}b_{11} & a_{12}b_{12} & \\ldots & a_{1n}b_{1n} \\\\\n",
        "      a_{21}b_{21} & a_{22}b_{22} & \\ldots & a_{2n}b_{2n} \\\\\n",
        "      \\vdots & \\vdots & \\ddots & \\vdots \\\\\n",
        "      a_{m1}b_{m1} & a_{m2}b_{m2} & \\ldots & a_{mn}b_{mn}\n",
        "    \\end{array}\n",
        "  \\right)\n",
        "$$\n",
        "\n",
        "例えば次ような場合、\n",
        "\n",
        "$$ \\begin{aligned} \\\\\n",
        "   A  & = \\left(\n",
        "    \\begin{array}{ccc}\n",
        "      0 & 1 & 2 \\\\\n",
        "      3 & 4 & 5 \\\\\n",
        "      6 & 7 & 8\n",
        "    \\end{array}\n",
        "  \\right) \\\\\n",
        "  B  & = \\left(\n",
        "    \\begin{array}{ccc}\n",
        "      0 & 1 & 2 \\\\\n",
        "      2 & 0 & 1 \\\\\n",
        "      1 & 2 & 0\n",
        "    \\end{array}\n",
        "  \\right)\n",
        "\\end{aligned}\n",
        "$$\n",
        "\n",
        "$A$と$B$の要素ごとの積は次のようになります。\n",
        "\n",
        "$$ \\begin{aligned} \\\\\n",
        "  A\\circ B  & = \\left(\n",
        "    \\begin{array}{ccc}\n",
        "      0\\times 0 & 1\\times 1 & 2\\times 2 \\\\\n",
        "      3\\times 2 & 4\\times 0 & 5\\times 1 \\\\\n",
        "      6\\times 1 & 7\\times 2 & 8\\times 0\n",
        "    \\end{array}\n",
        "  \\right) \\\\\n",
        "  & = \\left(\n",
        "    \\begin{array}{ccc}\n",
        "      0 & 1 & 4 \\\\\n",
        "      6 & 0 & 5 \\\\\n",
        "      6 & 14 & 0\n",
        "    \\end{array}\n",
        "  \\right)\n",
        "\\end{aligned}\n",
        "$$"
      ],
      "metadata": {
        "id": "8r59EtTQj-aJ"
      }
    },
    {
      "cell_type": "markdown",
      "source": [
        "**アダマール積**をコードで実装  \n",
        "要素ごとの演算にはスカラーの積の演算子`*`を使います。"
      ],
      "metadata": {
        "id": "nVCRZDdQkKyE"
      }
    },
    {
      "cell_type": "code",
      "source": [
        "import numpy as np\n",
        "\n",
        "a = np.array([[1, 2, 3],\n",
        "              [4, 5, 6],\n",
        "              [7, 8, 9]])\n",
        "\n",
        "b = np.array([[1, 2, 3],\n",
        "              [1, 2, 3],\n",
        "              [1, 2, 3]])\n",
        "\n",
        "# 要素ごとの積を計算するためには、配列の形状が同じである必要があります。\n",
        "\n",
        "print(a*b)"
      ],
      "metadata": {
        "colab": {
          "base_uri": "https://localhost:8080/"
        },
        "id": "t95AxiI8j_m7",
        "outputId": "23a302f0-af6e-499c-becb-95c88df87225"
      },
      "execution_count": null,
      "outputs": [
        {
          "output_type": "stream",
          "name": "stdout",
          "text": [
            "[[ 1  4  9]\n",
            " [ 4 10 18]\n",
            " [ 7 16 27]]\n"
          ]
        }
      ]
    },
    {
      "cell_type": "markdown",
      "source": [
        "# 転置"
      ],
      "metadata": {
        "id": "bKRxNh09Y4l3"
      }
    },
    {
      "cell_type": "markdown",
      "source": [
        "行列の行と列を入れ替えます。  \n",
        "例えば行列$A$の転置行列は$A^{\\mathrm{T}}$と表します。  \n",
        "\n",
        "$$  \\begin{aligned} \\\\\n",
        "   A & = \\left(\n",
        "    \\begin{array}{ccc}\n",
        "      1 & 2 & 3 \\\\\n",
        "      4 & 5 & 6 \\\\\n",
        "    \\end{array}\n",
        "  \\right) \\\\\n",
        "   A^{\\mathrm{T}} & = \\left(\n",
        "    \\begin{array}{cc}\n",
        "      1 & 4 \\\\\n",
        "      2 & 5 \\\\\n",
        "      3 & 6 \\\\\n",
        "    \\end{array}\n",
        "  \\right) \\\\\n",
        "\\end{aligned} $$"
      ],
      "metadata": {
        "id": "sH5a0TZdaXG_"
      }
    },
    {
      "cell_type": "markdown",
      "source": [
        "**転置**をコードで実装  \n",
        "numpyにおいては、行列を表す配列名の後に`.T`を付けると転置されます。"
      ],
      "metadata": {
        "id": "y3F7q-h7a6CG"
      }
    },
    {
      "cell_type": "code",
      "source": [
        "import numpy as np\n",
        "\n",
        "a = np.array([[1, 2, 3],\n",
        "             [4, 5, 6]])\n",
        "\n",
        "print(a)\n",
        "print()\n",
        "\n",
        "print(a.T) # 転置"
      ],
      "metadata": {
        "colab": {
          "base_uri": "https://localhost:8080/"
        },
        "id": "s1rXGsyDa1yP",
        "outputId": "bc883252-9894-4280-f38a-9e47eabe01da"
      },
      "execution_count": 2,
      "outputs": [
        {
          "output_type": "stream",
          "name": "stdout",
          "text": [
            "[[1 2 3]\n",
            " [4 5 6]]\n",
            "\n",
            "[[1 4]\n",
            " [2 5]\n",
            " [3 6]]\n"
          ]
        }
      ]
    },
    {
      "cell_type": "markdown",
      "source": [
        "#### 行列積と転置\n",
        "行列積においては、基本的に前の行列の列数と、後ろの行列の行数が一致する必要があります。しかしながら、一致しなくても転置により行列積が可能になる場合があります。"
      ],
      "metadata": {
        "id": "bwim5I8ubpFu"
      }
    },
    {
      "cell_type": "markdown",
      "source": [
        "$$  \\begin{aligned} \\\\\n",
        "   A & = \\left(\n",
        "    \\begin{array}{ccc}\n",
        "      1 & 2 & 3 \\\\\n",
        "      4 & 5 & 6 \\\\\n",
        "    \\end{array}\n",
        "  \\right) \\\\\n",
        "  B & = \\left(\n",
        "    \\begin{array}{ccc}\n",
        "      9 & 8 & 7 \\\\\n",
        "      6 & 5 & 4 \\\\\n",
        "    \\end{array}\n",
        "  \\right) \\\\\n",
        "\\end{aligned} $$  \n",
        "この場合は、行列$A$の**列数が3**であり、行列$B$の**行数が2**で等しくないので、行列積はできません。しかしながら、行列$B$を転置することにより、行列積が可能になります。"
      ],
      "metadata": {
        "id": "xHMYtUyRb6IT"
      }
    },
    {
      "cell_type": "markdown",
      "source": [
        "$$  \\begin{aligned} \\\\\n",
        "   A & = \\left(\n",
        "    \\begin{array}{ccc}\n",
        "      1 & 2 & 3 \\\\\n",
        "      4 & 5 & 6 \\\\\n",
        "    \\end{array}\n",
        "  \\right) \\\\\n",
        "  B^T & = \\left(\n",
        "    \\begin{array}{ccc}\n",
        "      9 & 6 \\\\\n",
        "      8 & 5 \\\\\n",
        "      7 & 4 \\\\\n",
        "    \\end{array}\n",
        "  \\right) \\\\\n",
        "\\end{aligned} $$   \n",
        "行列$A$の列数と、行列$B^{\\mathrm{T}}$の行数が等しくなり、行列積が計算できるようになりました。"
      ],
      "metadata": {
        "id": "fVJQ9rZ5clcG"
      }
    },
    {
      "cell_type": "code",
      "source": [
        "import numpy as np\n",
        "\n",
        "a = np.array([[1, 2, 3],\n",
        "              [4, 5, 6]])\n",
        "\n",
        "b = np.array([[9, 8, 7],\n",
        "              [6, 5, 4]])\n",
        "\n",
        "print(np.dot(a, b.T))"
      ],
      "metadata": {
        "colab": {
          "base_uri": "https://localhost:8080/"
        },
        "id": "xYNBYdVFdUbF",
        "outputId": "b83b05ca-eafd-4356-f353-7f7ad2d39a1a"
      },
      "execution_count": 3,
      "outputs": [
        {
          "output_type": "stream",
          "name": "stdout",
          "text": [
            "[[ 46  28]\n",
            " [118  73]]\n"
          ]
        }
      ]
    }
  ]
}