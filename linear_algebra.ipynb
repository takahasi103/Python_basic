{
  "nbformat": 4,
  "nbformat_minor": 0,
  "metadata": {
    "colab": {
      "provenance": [],
      "authorship_tag": "ABX9TyNyQbLhYosBk/XJRqwpMzlg",
      "include_colab_link": true
    },
    "kernelspec": {
      "name": "python3",
      "display_name": "Python 3"
    },
    "language_info": {
      "name": "python"
    }
  },
  "cells": [
    {
      "cell_type": "markdown",
      "metadata": {
        "id": "view-in-github",
        "colab_type": "text"
      },
      "source": [
        "<a href=\"https://colab.research.google.com/github/takahasi103/Python_basic/blob/main/linear_algebra.ipynb\" target=\"_parent\"><img src=\"https://colab.research.google.com/assets/colab-badge.svg\" alt=\"Open In Colab\"/></a>"
      ]
    },
    {
      "cell_type": "markdown",
      "source": [
        "#スカラー\n",
        "* スカラー（scalar）は1、5、1.2、-7などの通常の数値のこと"
      ],
      "metadata": {
        "id": "zkNv9D__Yt3t"
      }
    },
    {
      "cell_type": "code",
      "source": [
        "a = 1\n",
        "b = 1.5\n",
        "c = -2\n",
        "d = 1.5e5 # 1.5x10の5乗"
      ],
      "metadata": {
        "id": "jf957eZ4ZOQj"
      },
      "execution_count": null,
      "outputs": []
    },
    {
      "cell_type": "markdown",
      "source": [
        "# ベクトル\n",
        "* ベクトルは、スカラーを直線上に並べたもの"
      ],
      "metadata": {
        "id": "4CzmDYkkZpgR"
      }
    },
    {
      "cell_type": "markdown",
      "source": [
        " $$ \\begin{aligned}\n",
        " \\vec{p} & = \\left(\n",
        "    \\begin{array}{c}\n",
        "      p_1 \\\\\n",
        "      p_2 \\\\\n",
        "      \\vdots \\\\\n",
        "      p_m\n",
        "    \\end{array}\n",
        " \\right) \\\\\n",
        "\\vec{q} & = (q_1, q_2, \\cdots, q_n)\n",
        "\\end{aligned} $$"
      ],
      "metadata": {
        "id": "dOQZXwWwZ6i5"
      }
    },
    {
      "cell_type": "markdown",
      "source": [
        "ベクトルには、上記の$\\vec{p}$のように縦に数値を並べる縦ベクトルと、$\\vec{q}$のように横に数値を並べる横ベクトルがあります。  \n",
        "また、$\\vec{p}$、$\\vec{q}$に見られるように、ベクトルの要素を変数で表す際の添字の数は1つです。"
      ],
      "metadata": {
        "id": "P45SiHpVaPxc"
      }
    },
    {
      "cell_type": "code",
      "source": [
        "import numpy as np\n",
        "\n",
        "a = np.array([1, 2, 3, 4, 5, 6])\n",
        "print(a)"
      ],
      "metadata": {
        "colab": {
          "base_uri": "https://localhost:8080/"
        },
        "id": "XnuVGBjIa0SI",
        "outputId": "f42fdabe-ba02-442a-a29a-f9e8899089e7"
      },
      "execution_count": null,
      "outputs": [
        {
          "output_type": "stream",
          "name": "stdout",
          "text": [
            "[1 2 3 4 5 6]\n"
          ]
        }
      ]
    },
    {
      "cell_type": "markdown",
      "source": [
        "# 行列\n",
        "* 行列はスカラーを格子状に並べたもので、例えば以下のように表記します。\n",
        "\n",
        "$$\n",
        "   \\left(\n",
        "    \\begin{array}{cccc}\n",
        "      0 & 1 & 2 & 3 \\\\\n",
        "      4 & 5 & 5 & 6 \\\\\n",
        "      7 & 8 & 9 & 10 \\\\\n",
        "    \\end{array}\n",
        "  \\right)\n",
        "$$"
      ],
      "metadata": {
        "id": "TIKi5L8Ve5ap"
      }
    },
    {
      "cell_type": "markdown",
      "source": [
        "行は、上から1行目、2行目、3行目...と数えます。列は、左から1列目、2列目、3列目...と数えます。また、行がm個、列がn個並んでいる行列を、m x nの行列と表現します。"
      ],
      "metadata": {
        "id": "yPC-Rs4ahtg1"
      }
    },
    {
      "cell_type": "markdown",
      "source": [
        "$$\n",
        "   A = \\left(\n",
        "    \\begin{array}{cccc}\n",
        "      0 & 1 & 2 \\\\\n",
        "      3 & 4 & 5 \\\\\n",
        "    \\end{array}\n",
        "  \\right)\n",
        "$$\n",
        "$$\n",
        "   P = \\left(\n",
        "    \\begin{array}{cccc}\n",
        "      p_{11} & p_{12} & \\ldots & p_{1n} \\\\\n",
        "      p_{21} & p_{22} & \\ldots & p_{2n} \\\\\n",
        "      \\vdots & \\vdots & \\ddots & \\vdots \\\\\n",
        "      p_{m1} & p_{m2} & \\ldots & p_{mn} \\\\\n",
        "    \\end{array}\n",
        "  \\right)\n",
        "$$\n",
        "\n",
        "行列$A$は2x3の行列で、行列$P$はm x nの行列です。  \n",
        "また、$P$に見られるように、行列の要素を変数で表す際の添字の数は2つです。"
      ],
      "metadata": {
        "id": "YWBETO-CiBYq"
      }
    },
    {
      "cell_type": "code",
      "source": [
        "import numpy as np\n",
        "\n",
        "a = np.array([[0, 1, 2],\n",
        "              [3, 4, 5]]) # 2x3の行列\n",
        "print(a)\n",
        "print()\n",
        "\n",
        "b = np.array([[0, 1],\n",
        "              [2, 3],\n",
        "              [4, 5]]) # 3x2の行列\n",
        "print(b)"
      ],
      "metadata": {
        "colab": {
          "base_uri": "https://localhost:8080/"
        },
        "id": "UQLA3LVPiIC7",
        "outputId": "3b77d454-d974-48cb-f4cc-126fa6e2a76c"
      },
      "execution_count": null,
      "outputs": [
        {
          "output_type": "stream",
          "name": "stdout",
          "text": [
            "[[0 1 2]\n",
            " [3 4 5]]\n",
            "\n",
            "[[0 1]\n",
            " [2 3]\n",
            " [4 5]]\n"
          ]
        }
      ]
    },
    {
      "cell_type": "markdown",
      "source": [
        "# テンソル\n",
        "* テンソルはスカラーを複数の次元に並べたもので、スカラー、ベクトル、行列を含みます。"
      ],
      "metadata": {
        "id": "gWLOPnDKixyj"
      }
    },
    {
      "cell_type": "markdown",
      "source": [
        "<img src=\"https://drive.google.com/uc?id=1AEjps0YRxZzD2Ol_rQE7tWDxnvb3Mx4P\">"
      ],
      "metadata": {
        "id": "h8K4jnodjRui"
      }
    },
    {
      "cell_type": "markdown",
      "source": [
        "各要素につく添字の数を、そのテンソルの階数といいます。スカラーには添字がないので0階のテンソル、ベクトルは添字が1つなので1階のテンソル、行列は添字が2つなので2階のテンソルになります。より高次元なものは、3階のテンソル、4階のテンソル...となります。"
      ],
      "metadata": {
        "id": "pnKnYS_Zjist"
      }
    },
    {
      "cell_type": "code",
      "source": [
        "import numpy as np\n",
        "\n",
        "a = np.array([[[0, 1, 2, 3],\n",
        "               [4, 5, 6, 7],\n",
        "               [8, 9, 10, 11]],\n",
        "\n",
        "              [[11, 10, 9, 8],\n",
        "               [7, 6, 5, 4],\n",
        "               [3, 2, 1, 0]]]) # (2, 3, 4)の3階のテンソル\n",
        "print(a)"
      ],
      "metadata": {
        "colab": {
          "base_uri": "https://localhost:8080/"
        },
        "id": "gLfHPoOJjr7z",
        "outputId": "98bce304-19a2-4160-a1bc-f9cb3a610963"
      },
      "execution_count": null,
      "outputs": [
        {
          "output_type": "stream",
          "name": "stdout",
          "text": [
            "[[[ 0  1  2  3]\n",
            "  [ 4  5  6  7]\n",
            "  [ 8  9 10 11]]\n",
            "\n",
            " [[11 10  9  8]\n",
            "  [ 7  6  5  4]\n",
            "  [ 3  2  1  0]]]\n"
          ]
        }
      ]
    },
    {
      "cell_type": "markdown",
      "source": [
        "# ベクトルの内積とノルム"
      ],
      "metadata": {
        "id": "FbT4BLr-2-g7"
      }
    },
    {
      "cell_type": "markdown",
      "source": [
        "### 内積\n",
        "内積はベクトル同士の積の一種ですが、次のように定義されます。\n",
        "\n",
        "$$ \\begin{aligned}\n",
        "\\vec{a} & = (a_1, a_2, \\cdots, a_n) \\\\\n",
        "\\vec{b} & = (b_1, b_2, \\cdots, b_n)\n",
        "\\end{aligned} $$\n",
        "\n",
        "のとき、\n",
        "\n",
        "$$ \\begin{aligned}\n",
        "\\vec{a}\\cdot\\vec{b} & = (a_1, a_2, \\cdots, a_n)\\cdot(b_1, b_2, \\cdots, b_n) \\\\\n",
        "& = (a_1b_1+a_2b_2+\\cdots+a_nb_n) \\\\\n",
        "& = \\sum_{k=1}^n a_kb_k\n",
        "\\end{aligned} $$\n",
        "\n",
        "内積をとる際は、2つのベクトルの要素数が同じである必要があります。  \n",
        "内積は、2つのベクトルの相関を求める際に使用します。"
      ],
      "metadata": {
        "id": "cfed0bMM3EPl"
      }
    },
    {
      "cell_type": "markdown",
      "source": [
        "numpyの**dot関数**で内積を求めることができる。"
      ],
      "metadata": {
        "id": "u8U6a71l3l70"
      }
    },
    {
      "cell_type": "code",
      "source": [
        "import numpy as np\n",
        "\n",
        "a = np.array([1, 2, 3, 4])\n",
        "b = np.array([4, 3, 2, 1])\n",
        "\n",
        "print(np.dot(a, b)) # ベクトルaとbの内積"
      ],
      "metadata": {
        "colab": {
          "base_uri": "https://localhost:8080/"
        },
        "id": "WCUrJfuR34bW",
        "outputId": "5aeaae39-5d3e-4a94-c44d-7c1d0cbf8247"
      },
      "execution_count": 1,
      "outputs": [
        {
          "output_type": "stream",
          "name": "stdout",
          "text": [
            "20\n"
          ]
        }
      ]
    },
    {
      "cell_type": "markdown",
      "source": [
        "### ノルム\n",
        "ノルムとはベクトルの「大きさ」を表す量です。  \n",
        "人工知能でよく使われるノルムに、「$L^2$ノルム」と「$L^1ノルム$」があります。"
      ],
      "metadata": {
        "id": "qbPWNzk651B3"
      }
    },
    {
      "cell_type": "markdown",
      "source": [
        "**$L^2$ノルム**  \n",
        "$L^2$ノルムは次のように$||x||_2$と表されます。ベクトルの各要素を2乗和し、平方根をとって計算します。\n",
        "\n",
        "$$ \\begin{aligned}\n",
        "||x||_2 & = \\sqrt {x_1^2+x_2^2+ \\cdots + x_n^2} \\\\\n",
        "& = \\sqrt {\\sum_{k=1}^n x_nk^2}\n",
        "\\end{aligned} $$\n",
        "\n",
        "**$L^1$ノルム**  \n",
        "$L^1$ノルムは次のように$||x||_1$と表されます。ベクトルの各要素の絶対値を足し合わせて計算します。\n",
        "\n",
        "$$ \\begin{aligned}\n",
        "||x||_1 & = |x_1|+|x_2|+ \\cdots + |x_n| \\\\\n",
        "& = \\sum_{k=1}^n |x_k|\n",
        "\\end{aligned} $$\n",
        "\n",
        "**一般化されたノルム**  \n",
        "ノルムをより一般化した$L^p$は以下のように表されます。\n",
        "\n",
        "$$ \\begin{aligned}\n",
        "||x||_p & = (x_1^p+x_2^p+ \\cdots + x_n^p)^{\\frac{1}{p}} \\\\\n",
        "& = (\\sum_{k=1}^n |x_k|^p)^{\\frac{1}{p}}\n",
        "\\end{aligned} $$\n",
        "\n",
        "ノルムは、ディープラーニングにおいて「**正則化**」に使われます。  \n",
        "正則化とは、必要以上にネットワークの学習が進んでいしまうことをパラメータを調節することにより予防することです。"
      ],
      "metadata": {
        "id": "MD8kT4WT5-Xh"
      }
    },
    {
      "cell_type": "markdown",
      "source": [
        "numpyの**linalg.norm関数**を用いて求めることができます"
      ],
      "metadata": {
        "id": "IWTJko7z9Nkk"
      }
    },
    {
      "cell_type": "code",
      "source": [
        "import numpy as np\n",
        "\n",
        "a = np.array([1, 1, -1, -1])\n",
        "\n",
        "print(np.linalg.norm(a))  # L2ノルム\n",
        "print(np.linalg.norm(a, 1))  # L1ノルム"
      ],
      "metadata": {
        "colab": {
          "base_uri": "https://localhost:8080/"
        },
        "id": "M0wUB3LH9RUK",
        "outputId": "a8cda15c-5c41-4257-b308-4c1e8c076310"
      },
      "execution_count": 3,
      "outputs": [
        {
          "output_type": "stream",
          "name": "stdout",
          "text": [
            "2.0\n",
            "4.0\n"
          ]
        }
      ]
    }
  ]
}