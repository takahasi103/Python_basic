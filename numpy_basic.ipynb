{
  "nbformat": 4,
  "nbformat_minor": 0,
  "metadata": {
    "colab": {
      "provenance": [],
      "authorship_tag": "ABX9TyMzw0b/Kh1doiH6BMCnwFQ+",
      "include_colab_link": true
    },
    "kernelspec": {
      "name": "python3",
      "display_name": "Python 3"
    },
    "language_info": {
      "name": "python"
    }
  },
  "cells": [
    {
      "cell_type": "markdown",
      "metadata": {
        "id": "view-in-github",
        "colab_type": "text"
      },
      "source": [
        "<a href=\"https://colab.research.google.com/github/takahasi103/Python_basic/blob/main/numpy_basic.ipynb\" target=\"_parent\"><img src=\"https://colab.research.google.com/assets/colab-badge.svg\" alt=\"Open In Colab\"/></a>"
      ]
    },
    {
      "cell_type": "markdown",
      "source": [
        "# numpyとは\n",
        "数値計算の際に利用されるライブラリ"
      ],
      "metadata": {
        "id": "5hFuT5j6FXBk"
      }
    },
    {
      "cell_type": "markdown",
      "source": [
        "`np.array()`で**「ndarray」**を作成することができる\n",
        "**ndarray**はnumpyが持つ独自のデータ構造で、ndarrayを使用して計算することで、高速な処理が可能"
      ],
      "metadata": {
        "id": "4-42iqidGAhy"
      }
    },
    {
      "cell_type": "code",
      "execution_count": 2,
      "metadata": {
        "colab": {
          "base_uri": "https://localhost:8080/"
        },
        "id": "xAv8Yje0D3aq",
        "outputId": "8658db0a-60c9-4349-870a-3c406372fedf"
      },
      "outputs": [
        {
          "output_type": "execute_result",
          "data": {
            "text/plain": [
              "array([1, 2, 3])"
            ]
          },
          "metadata": {},
          "execution_count": 2
        }
      ],
      "source": [
        "# ndarryの作成方法\n",
        "\n",
        "import numpy as np # numpyを読み込む\n",
        "\n",
        "np.array([1, 2, 3])\n"
      ]
    },
    {
      "cell_type": "code",
      "source": [
        "# 異なるデータ型がある場合、最初の要素のデータ型に変換\n",
        "np.array(['p', 1, 2, 3])"
      ],
      "metadata": {
        "colab": {
          "base_uri": "https://localhost:8080/"
        },
        "id": "dZt2b3DtITYj",
        "outputId": "b4162198-3123-4e67-e889-4ccb0a689c21"
      },
      "execution_count": null,
      "outputs": [
        {
          "output_type": "execute_result",
          "data": {
            "text/plain": [
              "array(['p', '1', '2', '3'], dtype='<U21')"
            ]
          },
          "metadata": {},
          "execution_count": 9
        }
      ]
    },
    {
      "cell_type": "markdown",
      "source": [
        "`.arange()`で数値が順番に並んだndarrayを作成できる"
      ],
      "metadata": {
        "id": "qwTm0_RAInMj"
      }
    },
    {
      "cell_type": "code",
      "source": [
        "np.arange(5)"
      ],
      "metadata": {
        "colab": {
          "base_uri": "https://localhost:8080/"
        },
        "id": "rY0lvwBiI9u-",
        "outputId": "dc5cd117-7bbb-4f62-cb22-3ba69bc07bb2"
      },
      "execution_count": null,
      "outputs": [
        {
          "output_type": "execute_result",
          "data": {
            "text/plain": [
              "array([0, 1, 2, 3, 4])"
            ]
          },
          "metadata": {},
          "execution_count": 10
        }
      ]
    },
    {
      "cell_type": "code",
      "source": [
        "np.arange(1,8) # (始点, 配列数)"
      ],
      "metadata": {
        "colab": {
          "base_uri": "https://localhost:8080/"
        },
        "id": "hsAfURQDJdaj",
        "outputId": "b4188162-459f-402c-b432-a285605f052c"
      },
      "execution_count": null,
      "outputs": [
        {
          "output_type": "execute_result",
          "data": {
            "text/plain": [
              "array([1, 2, 3, 4, 5, 6, 7])"
            ]
          },
          "metadata": {},
          "execution_count": 11
        }
      ]
    },
    {
      "cell_type": "code",
      "source": [
        "a = np.zeros([3,5]) # 要素がすべて0\n",
        "print(a)\n",
        "\n",
        "b= np.ones([3,5]) # 要素がすべて1\n",
        "print(b)"
      ],
      "metadata": {
        "colab": {
          "base_uri": "https://localhost:8080/"
        },
        "id": "JUvZBcWZBTRR",
        "outputId": "7eb5d529-f9d0-4c36-c43a-d6e0a1fa5291"
      },
      "execution_count": null,
      "outputs": [
        {
          "output_type": "stream",
          "name": "stdout",
          "text": [
            "[[0. 0. 0. 0. 0.]\n",
            " [0. 0. 0. 0. 0.]\n",
            " [0. 0. 0. 0. 0.]]\n",
            "[[1. 1. 1. 1. 1.]\n",
            " [1. 1. 1. 1. 1.]\n",
            " [1. 1. 1. 1. 1.]]\n"
          ]
        }
      ]
    },
    {
      "cell_type": "code",
      "source": [
        "from numpy.random import *\n",
        "rand(2,3) # 0~1の間でランダムに数値を取得"
      ],
      "metadata": {
        "colab": {
          "base_uri": "https://localhost:8080/"
        },
        "id": "ena-PD1MCMwH",
        "outputId": "b44db192-2048-4305-c365-709706e612ec"
      },
      "execution_count": null,
      "outputs": [
        {
          "output_type": "execute_result",
          "data": {
            "text/plain": [
              "array([[0.38503216, 0.50808978, 0.98440502],\n",
              "       [0.46674634, 0.28803783, 0.11488345]])"
            ]
          },
          "metadata": {},
          "execution_count": 6
        }
      ]
    },
    {
      "cell_type": "code",
      "source": [
        "a = np.arange(15).reshape(3, 5)\n",
        "a"
      ],
      "metadata": {
        "colab": {
          "base_uri": "https://localhost:8080/"
        },
        "id": "5Bm5NR2hDc5L",
        "outputId": "8ecac8d1-7085-4880-e6b9-7ca551ba0537"
      },
      "execution_count": 3,
      "outputs": [
        {
          "output_type": "execute_result",
          "data": {
            "text/plain": [
              "array([[ 0,  1,  2,  3,  4],\n",
              "       [ 5,  6,  7,  8,  9],\n",
              "       [10, 11, 12, 13, 14]])"
            ]
          },
          "metadata": {},
          "execution_count": 3
        }
      ]
    },
    {
      "cell_type": "markdown",
      "source": [
        "行列の大きさを確認"
      ],
      "metadata": {
        "id": "jjFOCx2yEABW"
      }
    },
    {
      "cell_type": "code",
      "source": [
        "a.shape # (行,列)"
      ],
      "metadata": {
        "colab": {
          "base_uri": "https://localhost:8080/"
        },
        "id": "5f8pHwX-DxtM",
        "outputId": "9a1b9ae1-53af-4f0c-b08f-d10ebd1fbad0"
      },
      "execution_count": null,
      "outputs": [
        {
          "output_type": "execute_result",
          "data": {
            "text/plain": [
              "(3, 5)"
            ]
          },
          "metadata": {},
          "execution_count": 8
        }
      ]
    },
    {
      "cell_type": "markdown",
      "source": [
        "行列の軸数（次元）を確認"
      ],
      "metadata": {
        "id": "wCxTfYfIPT4X"
      }
    },
    {
      "cell_type": "code",
      "source": [
        "a.ndim"
      ],
      "metadata": {
        "colab": {
          "base_uri": "https://localhost:8080/"
        },
        "id": "68FAHP5uPYFB",
        "outputId": "c2915052-b728-4df3-95ba-c64b45c45c05"
      },
      "execution_count": 4,
      "outputs": [
        {
          "output_type": "execute_result",
          "data": {
            "text/plain": [
              "2"
            ]
          },
          "metadata": {},
          "execution_count": 4
        }
      ]
    },
    {
      "cell_type": "markdown",
      "source": [
        "行列のデータ型を確認"
      ],
      "metadata": {
        "id": "ojvIN0aQPoZV"
      }
    },
    {
      "cell_type": "code",
      "source": [
        "type(a)"
      ],
      "metadata": {
        "colab": {
          "base_uri": "https://localhost:8080/"
        },
        "id": "yBQIJOEZPowE",
        "outputId": "9ee7cfe9-c044-4295-ca4a-89fbc287fe42"
      },
      "execution_count": 5,
      "outputs": [
        {
          "output_type": "execute_result",
          "data": {
            "text/plain": [
              "numpy.ndarray"
            ]
          },
          "metadata": {},
          "execution_count": 5
        }
      ]
    },
    {
      "cell_type": "markdown",
      "source": [
        "行列の配列要素を確認"
      ],
      "metadata": {
        "id": "-shO0xR1PvQ7"
      }
    },
    {
      "cell_type": "code",
      "source": [
        "a.dtype"
      ],
      "metadata": {
        "colab": {
          "base_uri": "https://localhost:8080/"
        },
        "id": "TzW-62qCPyLW",
        "outputId": "180eff49-a940-4906-acd6-1dbc37cc7a44"
      },
      "execution_count": 6,
      "outputs": [
        {
          "output_type": "execute_result",
          "data": {
            "text/plain": [
              "dtype('int64')"
            ]
          },
          "metadata": {},
          "execution_count": 6
        }
      ]
    }
  ]
}