{
  "nbformat": 4,
  "nbformat_minor": 0,
  "metadata": {
    "colab": {
      "provenance": [],
      "authorship_tag": "ABX9TyPJq7kK+H0EpYJEgme7AbKr",
      "include_colab_link": true
    },
    "kernelspec": {
      "name": "python3",
      "display_name": "Python 3"
    },
    "language_info": {
      "name": "python"
    }
  },
  "cells": [
    {
      "cell_type": "markdown",
      "metadata": {
        "id": "view-in-github",
        "colab_type": "text"
      },
      "source": [
        "<a href=\"https://colab.research.google.com/github/takahasi103/Python_basic/blob/main/numpy_basic.ipynb\" target=\"_parent\"><img src=\"https://colab.research.google.com/assets/colab-badge.svg\" alt=\"Open In Colab\"/></a>"
      ]
    },
    {
      "cell_type": "markdown",
      "source": [
        "# unmpyとは\n",
        "数値計算の際に利用されるライブラリ"
      ],
      "metadata": {
        "id": "5hFuT5j6FXBk"
      }
    },
    {
      "cell_type": "markdown",
      "source": [
        "`np.array()`で**「ndarray」**を作成することができる\n",
        "**ndarray**はnumpyが持つ独自のデータ構造で、ndarrayを使用して計算することで、高速な処理が可能"
      ],
      "metadata": {
        "id": "4-42iqidGAhy"
      }
    },
    {
      "cell_type": "code",
      "execution_count": 8,
      "metadata": {
        "colab": {
          "base_uri": "https://localhost:8080/"
        },
        "id": "xAv8Yje0D3aq",
        "outputId": "6bda217b-93c5-44b2-e6bb-f51c85797088"
      },
      "outputs": [
        {
          "output_type": "execute_result",
          "data": {
            "text/plain": [
              "array([1, 2, 3])"
            ]
          },
          "metadata": {},
          "execution_count": 8
        }
      ],
      "source": [
        "# ndarryの作成方法\n",
        "\n",
        "import numpy as np # numpyを読み込む\n",
        "\n",
        "np.array([1, 2, 3])\n"
      ]
    },
    {
      "cell_type": "code",
      "source": [
        "# 異なるデータ型がある場合、最初の要素のデータ型に変換\n",
        "np.array(['p', 1, 2, 3])"
      ],
      "metadata": {
        "colab": {
          "base_uri": "https://localhost:8080/"
        },
        "id": "dZt2b3DtITYj",
        "outputId": "b4162198-3123-4e67-e889-4ccb0a689c21"
      },
      "execution_count": 9,
      "outputs": [
        {
          "output_type": "execute_result",
          "data": {
            "text/plain": [
              "array(['p', '1', '2', '3'], dtype='<U21')"
            ]
          },
          "metadata": {},
          "execution_count": 9
        }
      ]
    },
    {
      "cell_type": "markdown",
      "source": [
        "`.arange()`で数値が順番に並んだndarrayを作成できる"
      ],
      "metadata": {
        "id": "qwTm0_RAInMj"
      }
    },
    {
      "cell_type": "code",
      "source": [
        "np.arange(5)"
      ],
      "metadata": {
        "colab": {
          "base_uri": "https://localhost:8080/"
        },
        "id": "rY0lvwBiI9u-",
        "outputId": "dc5cd117-7bbb-4f62-cb22-3ba69bc07bb2"
      },
      "execution_count": 10,
      "outputs": [
        {
          "output_type": "execute_result",
          "data": {
            "text/plain": [
              "array([0, 1, 2, 3, 4])"
            ]
          },
          "metadata": {},
          "execution_count": 10
        }
      ]
    },
    {
      "cell_type": "code",
      "source": [
        "np.arange(1,8) # (始点, 配列数)"
      ],
      "metadata": {
        "colab": {
          "base_uri": "https://localhost:8080/"
        },
        "id": "hsAfURQDJdaj",
        "outputId": "b4188162-459f-402c-b432-a285605f052c"
      },
      "execution_count": 11,
      "outputs": [
        {
          "output_type": "execute_result",
          "data": {
            "text/plain": [
              "array([1, 2, 3, 4, 5, 6, 7])"
            ]
          },
          "metadata": {},
          "execution_count": 11
        }
      ]
    }
  ]
}