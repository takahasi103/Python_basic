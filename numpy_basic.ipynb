{
  "nbformat": 4,
  "nbformat_minor": 0,
  "metadata": {
    "colab": {
      "provenance": [],
      "authorship_tag": "ABX9TyOg/7HG/TCzlmnNkCrdGtaE",
      "include_colab_link": true
    },
    "kernelspec": {
      "name": "python3",
      "display_name": "Python 3"
    },
    "language_info": {
      "name": "python"
    }
  },
  "cells": [
    {
      "cell_type": "markdown",
      "metadata": {
        "id": "view-in-github",
        "colab_type": "text"
      },
      "source": [
        "<a href=\"https://colab.research.google.com/github/takahasi103/Python_basic/blob/main/numpy_basic.ipynb\" target=\"_parent\"><img src=\"https://colab.research.google.com/assets/colab-badge.svg\" alt=\"Open In Colab\"/></a>"
      ]
    },
    {
      "cell_type": "markdown",
      "source": [
        "# NumPyの基礎"
      ],
      "metadata": {
        "id": "xxEtqhUo4ZMa"
      }
    },
    {
      "cell_type": "markdown",
      "source": [
        "## NumPyとは\n",
        "Pythonの拡張モジュールです。\n",
        "NumPyはシンプルな表記で効率的なデータの操作を可能にします。"
      ],
      "metadata": {
        "id": "5hFuT5j6FXBk"
      }
    },
    {
      "cell_type": "markdown",
      "source": [
        "#### NumPyの配列\n",
        "NumPyの配列は、NumPyのarray関数を使うことでPythonのリストから簡単に作ることができます。"
      ],
      "metadata": {
        "id": "IOV9MR2z4Ojb"
      }
    },
    {
      "cell_type": "code",
      "execution_count": null,
      "metadata": {
        "colab": {
          "base_uri": "https://localhost:8080/"
        },
        "id": "xAv8Yje0D3aq",
        "outputId": "a7f7c5e9-79c1-4fe4-f655-578481de7e4f"
      },
      "outputs": [
        {
          "output_type": "stream",
          "name": "stdout",
          "text": [
            "[1 2 3 4 5]\n"
          ]
        }
      ],
      "source": [
        "import numpy as np # NumPyを読み込む\n",
        "\n",
        "a = np.array([1, 2, 3, 4, 5]) # PythonのリストからNumPyの配列を作成\n",
        "print(a)\n"
      ]
    },
    {
      "cell_type": "code",
      "source": [
        "import numpy as np\n",
        "\n",
        "a = np.array([[1, 2, 3], [4, 5, 6]]) # 2重のリストから2次元配列を作成\n",
        "print(a)\n",
        "\n",
        "print()\n",
        "\n",
        "b = np.array([[1,2,3], [4, 5, 6], [7, 8, 9]]) # 3重のリストから3次元配列を作成\n",
        "print(b)"
      ],
      "metadata": {
        "colab": {
          "base_uri": "https://localhost:8080/"
        },
        "id": "E4kdmGv95RUT",
        "outputId": "0e26e94a-e454-40ea-85f0-594d834ea1b1"
      },
      "execution_count": null,
      "outputs": [
        {
          "output_type": "stream",
          "name": "stdout",
          "text": [
            "[[1 2 3]\n",
            " [4 5 6]]\n",
            "\n",
            "[[1 2 3]\n",
            " [4 5 6]\n",
            " [7 8 9]]\n"
          ]
        }
      ]
    },
    {
      "cell_type": "markdown",
      "source": [
        "#### 配列の演算"
      ],
      "metadata": {
        "id": "nXGYaLUG7Cd7"
      }
    },
    {
      "cell_type": "code",
      "source": [
        "import numpy as np\n",
        "\n",
        "a = np.array([[1, 2, 3], [4, 5, 6]])\n",
        "print(a)\n",
        "\n",
        "print()\n",
        "\n",
        "print(a + 2) # 各要素に2を足す\n",
        "\n",
        "print()\n",
        "\n",
        "print(a * 2) # 各要素に2をかける"
      ],
      "metadata": {
        "colab": {
          "base_uri": "https://localhost:8080/"
        },
        "id": "nasK34p67MpN",
        "outputId": "a0535755-b751-4bfc-cf23-098cff731561"
      },
      "execution_count": null,
      "outputs": [
        {
          "output_type": "stream",
          "name": "stdout",
          "text": [
            "[[1 2 3]\n",
            " [4 5 6]]\n",
            "\n",
            "[[3 4 5]\n",
            " [6 7 8]]\n",
            "\n",
            "[[ 2  4  6]\n",
            " [ 8 10 12]]\n"
          ]
        }
      ]
    },
    {
      "cell_type": "markdown",
      "source": [
        "**配列同士の演算**"
      ],
      "metadata": {
        "id": "K6WioPJf8HDJ"
      }
    },
    {
      "cell_type": "code",
      "source": [
        "from re import A\n",
        "import numpy as np\n",
        "\n",
        "a = np.array([[1, 2, 3], [4, 5, 6], [7, 8, 9]])\n",
        "b = np.array([[3, 2, 1], [6, 5, 4], [9, 8, 7]])\n",
        "print(a)\n",
        "print()\n",
        "print(b)\n",
        "\n",
        "print()\n",
        "\n",
        "print(a + b)\n",
        "\n",
        "print()\n",
        "\n",
        "print(a * b)"
      ],
      "metadata": {
        "colab": {
          "base_uri": "https://localhost:8080/"
        },
        "id": "UkP2J9SN8Nnc",
        "outputId": "e9cca7fb-80ac-40ba-da81-6c07c46cb203"
      },
      "execution_count": null,
      "outputs": [
        {
          "output_type": "stream",
          "name": "stdout",
          "text": [
            "[[1 2 3]\n",
            " [4 5 6]\n",
            " [7 8 9]]\n",
            "\n",
            "[[3 2 1]\n",
            " [6 5 4]\n",
            " [9 8 7]]\n",
            "\n",
            "[[ 4  4  4]\n",
            " [10 10 10]\n",
            " [16 16 16]]\n",
            "\n",
            "[[ 3  4  3]\n",
            " [24 25 24]\n",
            " [63 64 63]]\n"
          ]
        }
      ]
    },
    {
      "cell_type": "markdown",
      "source": [
        "#### 関数と配列\n",
        "関数の引数や返り値としてNumPyの配列を使うことができます。  \n",
        "以下の関数`add`は、引数として配列を受け取り、返り値として配列を返しています。"
      ],
      "metadata": {
        "id": "xZE1N3M5-FED"
      }
    },
    {
      "cell_type": "code",
      "source": [
        "import numpy as np\n",
        "\n",
        "def add(x):\n",
        "    n = x + 3\n",
        "    return n\n",
        "\n",
        "a = np.array([[0, 1, 2, 3, 4], [5, 6, 7, 8, 9]])\n",
        "b = add(a) # 引数として配列を渡す\n",
        "\n",
        "print(b)"
      ],
      "metadata": {
        "colab": {
          "base_uri": "https://localhost:8080/"
        },
        "id": "97vwftZN-WZa",
        "outputId": "7d3d659f-060d-4af3-80be-6a879f2ba944"
      },
      "execution_count": null,
      "outputs": [
        {
          "output_type": "stream",
          "name": "stdout",
          "text": [
            "[[ 3  4  5  6  7]\n",
            " [ 8  9 10 11 12]]\n"
          ]
        }
      ]
    },
    {
      "cell_type": "code",
      "source": [
        "import numpy as np\n",
        "\n",
        "a = np.array([[0, 1, 2, 3, 4], [5, 6, 7, 8, 9]])\n",
        "\n",
        "print(\"合計:\" + \" \" +  str(np.sum(a)))\n",
        "print(\"平均:\" + \" \" +  str(np.average(a)))\n",
        "print(\"最大値:\" + \" \" +  str(np.max(a)))\n",
        "print(\"最小値:\" + \" \" +  str(np.min(a)))"
      ],
      "metadata": {
        "colab": {
          "base_uri": "https://localhost:8080/"
        },
        "id": "c7KPI2H3_09l",
        "outputId": "63b05fab-16fc-49a1-ff3b-8c7e3043989d"
      },
      "execution_count": null,
      "outputs": [
        {
          "output_type": "stream",
          "name": "stdout",
          "text": [
            "合計: 45\n",
            "平均: 4.5\n",
            "最大値: 9\n",
            "最小値: 0\n"
          ]
        }
      ]
    },
    {
      "cell_type": "markdown",
      "source": [
        "#### linsppace関数\n",
        "ある区間を50に等間隔で区切ってNumPyの配列にします。  \n",
        "この配列を、グラフの横軸の値としてよく使います。"
      ],
      "metadata": {
        "id": "t7kqEZtgxLYC"
      }
    },
    {
      "cell_type": "code",
      "source": [
        "import numpy as np\n",
        "\n",
        "x = np.linspace(-5, 5)  # -5から5まで50に区切る\n",
        "\n",
        "print(x)\n",
        "print(len(x))  # xの要素数"
      ],
      "metadata": {
        "colab": {
          "base_uri": "https://localhost:8080/"
        },
        "id": "TAGcmLYoxmae",
        "outputId": "b1eff2cc-e653-4726-c809-b1de34d0a394"
      },
      "execution_count": 1,
      "outputs": [
        {
          "output_type": "stream",
          "name": "stdout",
          "text": [
            "[-5.         -4.79591837 -4.59183673 -4.3877551  -4.18367347 -3.97959184\n",
            " -3.7755102  -3.57142857 -3.36734694 -3.16326531 -2.95918367 -2.75510204\n",
            " -2.55102041 -2.34693878 -2.14285714 -1.93877551 -1.73469388 -1.53061224\n",
            " -1.32653061 -1.12244898 -0.91836735 -0.71428571 -0.51020408 -0.30612245\n",
            " -0.10204082  0.10204082  0.30612245  0.51020408  0.71428571  0.91836735\n",
            "  1.12244898  1.32653061  1.53061224  1.73469388  1.93877551  2.14285714\n",
            "  2.34693878  2.55102041  2.75510204  2.95918367  3.16326531  3.36734694\n",
            "  3.57142857  3.7755102   3.97959184  4.18367347  4.3877551   4.59183673\n",
            "  4.79591837  5.        ]\n",
            "50\n"
          ]
        }
      ]
    },
    {
      "cell_type": "markdown",
      "source": [],
      "metadata": {
        "id": "JstLXbRX7NM3"
      }
    },
    {
      "cell_type": "code",
      "source": [
        "# 異なるデータ型がある場合、最初の要素のデータ型に変換\n",
        "np.array(['p', 1, 2, 3])"
      ],
      "metadata": {
        "colab": {
          "base_uri": "https://localhost:8080/"
        },
        "id": "dZt2b3DtITYj",
        "outputId": "b4162198-3123-4e67-e889-4ccb0a689c21"
      },
      "execution_count": null,
      "outputs": [
        {
          "output_type": "execute_result",
          "data": {
            "text/plain": [
              "array(['p', '1', '2', '3'], dtype='<U21')"
            ]
          },
          "metadata": {},
          "execution_count": 9
        }
      ]
    },
    {
      "cell_type": "markdown",
      "source": [
        "`.arange()`で数値が順番に並んだndarrayを作成できる"
      ],
      "metadata": {
        "id": "qwTm0_RAInMj"
      }
    },
    {
      "cell_type": "code",
      "source": [
        "np.arange(5)"
      ],
      "metadata": {
        "colab": {
          "base_uri": "https://localhost:8080/"
        },
        "id": "rY0lvwBiI9u-",
        "outputId": "dc5cd117-7bbb-4f62-cb22-3ba69bc07bb2"
      },
      "execution_count": null,
      "outputs": [
        {
          "output_type": "execute_result",
          "data": {
            "text/plain": [
              "array([0, 1, 2, 3, 4])"
            ]
          },
          "metadata": {},
          "execution_count": 10
        }
      ]
    },
    {
      "cell_type": "code",
      "source": [
        "np.arange(1,8) # (始点, 配列数)"
      ],
      "metadata": {
        "colab": {
          "base_uri": "https://localhost:8080/"
        },
        "id": "hsAfURQDJdaj",
        "outputId": "b4188162-459f-402c-b432-a285605f052c"
      },
      "execution_count": null,
      "outputs": [
        {
          "output_type": "execute_result",
          "data": {
            "text/plain": [
              "array([1, 2, 3, 4, 5, 6, 7])"
            ]
          },
          "metadata": {},
          "execution_count": 11
        }
      ]
    },
    {
      "cell_type": "code",
      "source": [
        "a = np.zeros([3,5]) # 要素がすべて0\n",
        "print(a)\n",
        "\n",
        "b= np.ones([3,5]) # 要素がすべて1\n",
        "print(b)"
      ],
      "metadata": {
        "colab": {
          "base_uri": "https://localhost:8080/"
        },
        "id": "JUvZBcWZBTRR",
        "outputId": "7eb5d529-f9d0-4c36-c43a-d6e0a1fa5291"
      },
      "execution_count": null,
      "outputs": [
        {
          "output_type": "stream",
          "name": "stdout",
          "text": [
            "[[0. 0. 0. 0. 0.]\n",
            " [0. 0. 0. 0. 0.]\n",
            " [0. 0. 0. 0. 0.]]\n",
            "[[1. 1. 1. 1. 1.]\n",
            " [1. 1. 1. 1. 1.]\n",
            " [1. 1. 1. 1. 1.]]\n"
          ]
        }
      ]
    },
    {
      "cell_type": "code",
      "source": [
        "from numpy.random import *\n",
        "rand(2,3) # 0~1の間でランダムに数値を取得"
      ],
      "metadata": {
        "colab": {
          "base_uri": "https://localhost:8080/"
        },
        "id": "ena-PD1MCMwH",
        "outputId": "b44db192-2048-4305-c365-709706e612ec"
      },
      "execution_count": null,
      "outputs": [
        {
          "output_type": "execute_result",
          "data": {
            "text/plain": [
              "array([[0.38503216, 0.50808978, 0.98440502],\n",
              "       [0.46674634, 0.28803783, 0.11488345]])"
            ]
          },
          "metadata": {},
          "execution_count": 6
        }
      ]
    },
    {
      "cell_type": "code",
      "source": [
        "a = np.arange(15).reshape(3, 5)\n",
        "a"
      ],
      "metadata": {
        "colab": {
          "base_uri": "https://localhost:8080/"
        },
        "id": "5Bm5NR2hDc5L",
        "outputId": "3cb6882b-480b-4a59-ea23-66fc21469e43"
      },
      "execution_count": null,
      "outputs": [
        {
          "output_type": "execute_result",
          "data": {
            "text/plain": [
              "array([[ 0,  1,  2,  3,  4],\n",
              "       [ 5,  6,  7,  8,  9],\n",
              "       [10, 11, 12, 13, 14]])"
            ]
          },
          "metadata": {},
          "execution_count": 2
        }
      ]
    },
    {
      "cell_type": "markdown",
      "source": [
        "行列の大きさを確認"
      ],
      "metadata": {
        "id": "jjFOCx2yEABW"
      }
    },
    {
      "cell_type": "code",
      "source": [
        "a.shape # (行,列)"
      ],
      "metadata": {
        "colab": {
          "base_uri": "https://localhost:8080/"
        },
        "id": "5f8pHwX-DxtM",
        "outputId": "9a1b9ae1-53af-4f0c-b08f-d10ebd1fbad0"
      },
      "execution_count": null,
      "outputs": [
        {
          "output_type": "execute_result",
          "data": {
            "text/plain": [
              "(3, 5)"
            ]
          },
          "metadata": {},
          "execution_count": 8
        }
      ]
    },
    {
      "cell_type": "markdown",
      "source": [
        "行列の軸数（次元）を確認"
      ],
      "metadata": {
        "id": "wCxTfYfIPT4X"
      }
    },
    {
      "cell_type": "code",
      "source": [
        "a.ndim"
      ],
      "metadata": {
        "colab": {
          "base_uri": "https://localhost:8080/"
        },
        "id": "68FAHP5uPYFB",
        "outputId": "c2915052-b728-4df3-95ba-c64b45c45c05"
      },
      "execution_count": null,
      "outputs": [
        {
          "output_type": "execute_result",
          "data": {
            "text/plain": [
              "2"
            ]
          },
          "metadata": {},
          "execution_count": 4
        }
      ]
    },
    {
      "cell_type": "markdown",
      "source": [
        "行列のデータ型を確認"
      ],
      "metadata": {
        "id": "ojvIN0aQPoZV"
      }
    },
    {
      "cell_type": "code",
      "source": [
        "type(a)"
      ],
      "metadata": {
        "colab": {
          "base_uri": "https://localhost:8080/"
        },
        "id": "yBQIJOEZPowE",
        "outputId": "9ee7cfe9-c044-4295-ca4a-89fbc287fe42"
      },
      "execution_count": null,
      "outputs": [
        {
          "output_type": "execute_result",
          "data": {
            "text/plain": [
              "numpy.ndarray"
            ]
          },
          "metadata": {},
          "execution_count": 5
        }
      ]
    },
    {
      "cell_type": "markdown",
      "source": [
        "行列の配列要素を確認"
      ],
      "metadata": {
        "id": "-shO0xR1PvQ7"
      }
    },
    {
      "cell_type": "code",
      "source": [
        "a.dtype"
      ],
      "metadata": {
        "colab": {
          "base_uri": "https://localhost:8080/"
        },
        "id": "TzW-62qCPyLW",
        "outputId": "180eff49-a940-4906-acd6-1dbc37cc7a44"
      },
      "execution_count": null,
      "outputs": [
        {
          "output_type": "execute_result",
          "data": {
            "text/plain": [
              "dtype('int64')"
            ]
          },
          "metadata": {},
          "execution_count": 6
        }
      ]
    },
    {
      "cell_type": "markdown",
      "source": [
        "スライス"
      ],
      "metadata": {
        "id": "hV3JO0SWgm4S"
      }
    },
    {
      "cell_type": "code",
      "source": [
        "a = np.arange(10)\n",
        "print(a)\n",
        "\n",
        "print(a[4:8]) # 始点:8以下まで"
      ],
      "metadata": {
        "colab": {
          "base_uri": "https://localhost:8080/"
        },
        "id": "Ihvt7yr_gqSP",
        "outputId": "49c2640d-9ab9-4bf1-d09b-b7754d442ebe"
      },
      "execution_count": null,
      "outputs": [
        {
          "output_type": "stream",
          "name": "stdout",
          "text": [
            "[0 1 2 3 4 5 6 7 8 9]\n",
            "[4 5 6 7]\n"
          ]
        }
      ]
    },
    {
      "cell_type": "markdown",
      "source": [
        "「0」以外が入っているインデックスを取得"
      ],
      "metadata": {
        "id": "lVctHCkZhsr6"
      }
    },
    {
      "cell_type": "code",
      "source": [
        "b = np.nonzero([3, 4, 0, 0, 5, 0, 0])\n",
        "print(b)"
      ],
      "metadata": {
        "colab": {
          "base_uri": "https://localhost:8080/"
        },
        "id": "jxeAbcnYht3r",
        "outputId": "43d980f3-7d4f-4968-8805-b85c70f4df26"
      },
      "execution_count": null,
      "outputs": [
        {
          "output_type": "stream",
          "name": "stdout",
          "text": [
            "(array([0, 1, 4]),)\n"
          ]
        }
      ]
    },
    {
      "cell_type": "markdown",
      "source": [
        "最小値と最大値を出力"
      ],
      "metadata": {
        "id": "J8iOljSOiE3y"
      }
    },
    {
      "cell_type": "code",
      "source": [
        "a = np.random.random((10,10))\n",
        "\n",
        "print(a)\n",
        "\n",
        "datamin, datamax = a.min(), a.max() # 最小値, 最大値\n",
        "print(\"最小値:\" + str(datamin))\n",
        "print(\"最大値:\" + str(datamax))"
      ],
      "metadata": {
        "colab": {
          "base_uri": "https://localhost:8080/"
        },
        "id": "lRnL_t6xiF31",
        "outputId": "6f882920-ab28-4fb4-a545-926051eababa"
      },
      "execution_count": null,
      "outputs": [
        {
          "output_type": "stream",
          "name": "stdout",
          "text": [
            "[[0.57535447 0.47300318 0.58241885 0.54136298 0.57899747 0.19381732\n",
            "  0.29460217 0.41764741 0.56913927 0.32073029]\n",
            " [0.72104018 0.03496081 0.29004532 0.61755194 0.8586109  0.63481403\n",
            "  0.47218713 0.67033892 0.73188583 0.71025875]\n",
            " [0.3671675  0.52901482 0.07439707 0.56732028 0.51267015 0.83809608\n",
            "  0.97343299 0.52044082 0.8123824  0.7771512 ]\n",
            " [0.68963963 0.16796942 0.86526683 0.35245224 0.30143831 0.22729291\n",
            "  0.98217703 0.72374644 0.74014345 0.55954183]\n",
            " [0.25734745 0.23272453 0.46088335 0.465984   0.92978853 0.66433841\n",
            "  0.45514873 0.68113733 0.3630658  0.35334685]\n",
            " [0.6310144  0.80827839 0.89956099 0.00758224 0.83761598 0.31978115\n",
            "  0.9272885  0.01024489 0.02525395 0.99087353]\n",
            " [0.58362632 0.49688529 0.09811622 0.25417412 0.46273551 0.6053844\n",
            "  0.49705302 0.13394082 0.20236307 0.08462028]\n",
            " [0.37326189 0.62742398 0.84329511 0.15344351 0.72149977 0.29852789\n",
            "  0.67021829 0.39043926 0.69593651 0.78148939]\n",
            " [0.10733081 0.81687541 0.47130237 0.24568126 0.19801501 0.04533718\n",
            "  0.96592777 0.13790741 0.50655921 0.81722384]\n",
            " [0.04019953 0.02101913 0.16180469 0.39786376 0.63096994 0.62775991\n",
            "  0.26460124 0.50866569 0.4033901  0.99757346]]\n",
            "最小値:0.007582239922604983\n",
            "最大値:0.997573461335601\n"
          ]
        }
      ]
    },
    {
      "cell_type": "markdown",
      "source": [
        "平均値を出力"
      ],
      "metadata": {
        "id": "iNQZhNqOk8fF"
      }
    },
    {
      "cell_type": "code",
      "source": [
        "a = np.random.random((10,10))\n",
        "m = a.mean() #平均値\n",
        "print(m)"
      ],
      "metadata": {
        "colab": {
          "base_uri": "https://localhost:8080/"
        },
        "id": "T8TX1t_Rk_m8",
        "outputId": "10f7c919-3ccb-4416-8350-8068a0491c95"
      },
      "execution_count": null,
      "outputs": [
        {
          "output_type": "stream",
          "name": "stdout",
          "text": [
            "0.53147748995404\n"
          ]
        }
      ]
    }
  ]
}