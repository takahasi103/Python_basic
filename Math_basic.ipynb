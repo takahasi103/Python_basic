{
  "nbformat": 4,
  "nbformat_minor": 0,
  "metadata": {
    "colab": {
      "provenance": [],
      "authorship_tag": "ABX9TyO/dVhXnICvczNN+LYTnCJQ",
      "include_colab_link": true
    },
    "kernelspec": {
      "name": "python3",
      "display_name": "Python 3"
    },
    "language_info": {
      "name": "python"
    }
  },
  "cells": [
    {
      "cell_type": "markdown",
      "metadata": {
        "id": "view-in-github",
        "colab_type": "text"
      },
      "source": [
        "<a href=\"https://colab.research.google.com/github/takahasi103/Python_basic/blob/main/Math_basic.ipynb\" target=\"_parent\"><img src=\"https://colab.research.google.com/assets/colab-badge.svg\" alt=\"Open In Colab\"/></a>"
      ]
    },
    {
      "cell_type": "markdown",
      "source": [
        "# 数学基礎"
      ],
      "metadata": {
        "id": "j5Vnh8w2mCXc"
      }
    },
    {
      "cell_type": "markdown",
      "source": [
        "### 変数と定数"
      ],
      "metadata": {
        "id": "_1Li63xUmHm2"
      }
    },
    {
      "cell_type": "markdown",
      "source": [
        "* **変数**: 変化する数  \n",
        "($x$や$y$などのアルファベットを用いてよく表される)\n",
        "* **定数**: 一定の、変化しない数  \n",
        "(-1,1などの整数又は、$a$,$b$などのアルファベット、$\\alpha$,$\\beta$などのギリシャ文字を用いて表される)"
      ],
      "metadata": {
        "id": "9wKcryw2nZCA"
      }
    },
    {
      "cell_type": "markdown",
      "source": [
        "$x,y$は変数  \n",
        "$a$は定数\n",
        "\n",
        "$y=ax$"
      ],
      "metadata": {
        "id": "6SDpF_g2pTT8"
      }
    },
    {
      "cell_type": "code",
      "execution_count": null,
      "metadata": {
        "colab": {
          "base_uri": "https://localhost:8080/",
          "height": 430
        },
        "id": "7cPQWQZfl-Vs",
        "outputId": "8a1ca394-9e38-4b1d-80fb-1bf0d82e7908"
      },
      "outputs": [
        {
          "output_type": "display_data",
          "data": {
            "text/plain": [
              "<Figure size 640x480 with 1 Axes>"
            ],
            "image/png": "[encoded data removed]"
          },
          "metadata": {}
        }
      ],
      "source": [
        "import numpy as np\n",
        "import matplotlib.pyplot as plt\n",
        "\n",
        "a = 2 # 定数\n",
        "x = np.linspace(-3, 3) # 変数\n",
        "y = a * x # 変数\n",
        "\n",
        "plt.plot(x, y)\n",
        "plt.show()"
      ]
    },
    {
      "cell_type": "markdown",
      "source": [
        "### 関数"
      ],
      "metadata": {
        "id": "X1AvnYYwEiYS"
      }
    },
    {
      "cell_type": "markdown",
      "source": [
        "関数とは、ある値$x$を決めるとそれに従属的な値$y$が決まる関係のことです。  \n",
        "$x$を決めると$y$の値が決定される時、関数$f$を次のように表すことができます。  \n",
        "$y=f(x)$  \n",
        "これは、$y$が$x$の関数である、ということを意味します。"
      ],
      "metadata": {
        "id": "USKlYCXeGqe8"
      }
    },
    {
      "cell_type": "markdown",
      "source": [
        "#### 関数&ensp;$y=f(x)$の例\n",
        "\n",
        "$$y=2x$$\n",
        "$$y=2x^2+2x+1$$\n"
      ],
      "metadata": {
        "id": "6GHTH_dMHRsS"
      }
    },
    {
      "cell_type": "markdown",
      "source": [
        "#### 数学の関数とプログラミングの関数の違い\n",
        "* **数学における関数**  \n",
        "$y=f(x)$のように表されますが、関数$f$に入る値$x$と、処理が行われた上で関数から出ていく値$y$があります。  \n",
        "<br>\n",
        "* **プログラミングにおける関数**   \n",
        "関数に入っていく値として**引数**があり、関数から出ていく値として**返り値**があります。しかし、引数や返り値が無い場合がある点が異なります"
      ],
      "metadata": {
        "id": "ODypgX8GIuYP"
      }
    },
    {
      "cell_type": "markdown",
      "source": [
        "**数式**&ensp;$y=2x+1$をコードで実装"
      ],
      "metadata": {
        "id": "aZBoCeyBK6A3"
      }
    },
    {
      "cell_type": "code",
      "source": [
        "import numpy as np\n",
        "\n",
        "x = 4\n",
        "\n",
        "def function(x):\n",
        "    return 2*x + 1 # 数式　2x + 1\n",
        "\n",
        "y = function(x) # 数式　y = f(x)\n",
        "print(y)"
      ],
      "metadata": {
        "colab": {
          "base_uri": "https://localhost:8080/"
        },
        "id": "opCMjEumFzNq",
        "outputId": "988e4ca8-baee-44c5-b137-a24de26141db"
      },
      "execution_count": null,
      "outputs": [
        {
          "output_type": "stream",
          "name": "stdout",
          "text": [
            "9\n"
          ]
        }
      ]
    },
    {
      "cell_type": "markdown",
      "source": [
        "### 累乗"
      ],
      "metadata": {
        "id": "z-3_D_lmfDoi"
      }
    },
    {
      "cell_type": "markdown",
      "source": [
        "同じ数または文字を何度か掛け合わせることを、累乗といいます。  \n",
        "$$3\\times 3\\times 3\\times 3\\times 3=3^5$$\n",
        "以上を踏まえて、$x$、$y$、を変数、$a$を定数として次のように表すことができます。\n",
        "$$y=a^x$$\n",
        "累乗に関して、以下の関係が成り立ちます。  \n",
        "$$(x^a)^b=x^{ab}$$\n",
        "$$x^ax^b=x^{a+b}$$"
      ],
      "metadata": {
        "id": "JNWWvMw8fGLi"
      }
    },
    {
      "cell_type": "markdown",
      "source": [
        "**数式**&ensp;$y=a^x$をコードで実装"
      ],
      "metadata": {
        "id": "2tWHXUKkkaNT"
      }
    },
    {
      "cell_type": "code",
      "source": [
        "import numpy as np\n",
        "import matplotlib.pyplot as plt\n",
        "\n",
        "def function(x):\n",
        "    a = 3\n",
        "    return a**x # aのx乗\n",
        "\n",
        "x = np.linspace(0, 2)\n",
        "y = function(x)\n",
        "\n",
        "plt.plot(x, y)\n",
        "plt.show()"
      ],
      "metadata": {
        "colab": {
          "base_uri": "https://localhost:8080/",
          "height": 430
        },
        "id": "-T6qMMx-kcel",
        "outputId": "1a57914c-6a1a-4127-af1b-711d117fc89b"
      },
      "execution_count": 3,
      "outputs": [
        {
          "output_type": "display_data",
          "data": {
            "text/plain": [
              "<Figure size 640x480 with 1 Axes>"
            ],
            "image/png": "[encoded data removed]"
          },
          "metadata": {}
        }
      ]
    }
  ]
}