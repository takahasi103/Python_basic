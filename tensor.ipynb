{
  "nbformat": 4,
  "nbformat_minor": 0,
  "metadata": {
    "colab": {
      "provenance": [],
      "authorship_tag": "ABX9TyOVimpEJQLzxGUlu0LfsKim",
      "include_colab_link": true
    },
    "kernelspec": {
      "name": "python3",
      "display_name": "Python 3"
    },
    "language_info": {
      "name": "python"
    }
  },
  "cells": [
    {
      "cell_type": "markdown",
      "metadata": {
        "id": "view-in-github",
        "colab_type": "text"
      },
      "source": [
        "<a href=\"https://colab.research.google.com/github/takahasi103/Python_basic/blob/main/tensor.ipynb\" target=\"_parent\"><img src=\"https://colab.research.google.com/assets/colab-badge.svg\" alt=\"Open In Colab\"/></a>"
      ]
    },
    {
      "cell_type": "markdown",
      "source": [
        "#スカラー\n",
        "* スカラー（scalar）は1、5、1.2、-7などの通常の数値のこと"
      ],
      "metadata": {
        "id": "zkNv9D__Yt3t"
      }
    },
    {
      "cell_type": "code",
      "source": [
        "a = 1\n",
        "b = 1.5\n",
        "c = -2\n",
        "d = 1.5e5 # 1.5x10の5乗"
      ],
      "metadata": {
        "id": "jf957eZ4ZOQj"
      },
      "execution_count": null,
      "outputs": []
    },
    {
      "cell_type": "markdown",
      "source": [
        "# ベクトル\n",
        "* ベクトルは、スカラーを直線上に並べたもの"
      ],
      "metadata": {
        "id": "4CzmDYkkZpgR"
      }
    },
    {
      "cell_type": "markdown",
      "source": [
        " $$ \\begin{aligned}\n",
        " \\vec{p} & = \\left(\n",
        "    \\begin{array}{c}\n",
        "      p_1 \\\\\n",
        "      p_2 \\\\\n",
        "      \\vdots \\\\\n",
        "      p_m\n",
        "    \\end{array}\n",
        " \\right) \\\\\n",
        "\\vec{q} & = (q_1, q_2, \\cdots, q_n)\n",
        "\\end{aligned} $$"
      ],
      "metadata": {
        "id": "dOQZXwWwZ6i5"
      }
    },
    {
      "cell_type": "markdown",
      "source": [
        "ベクトルには、上記の$\\vec{p}$のように縦に数値を並べる縦ベクトルと、$\\vec{q}$のように横に数値を並べる横ベクトルがあります。  \n",
        "また、$\\vec{p}$、$\\vec{q}$に見られるように、ベクトルの要素を変数で表す際の添字の数は1つです。"
      ],
      "metadata": {
        "id": "P45SiHpVaPxc"
      }
    },
    {
      "cell_type": "code",
      "source": [
        "import numpy as np\n",
        "\n",
        "a = np.array([1, 2, 3, 4, 5, 6])\n",
        "print(a)"
      ],
      "metadata": {
        "colab": {
          "base_uri": "https://localhost:8080/"
        },
        "id": "XnuVGBjIa0SI",
        "outputId": "f42fdabe-ba02-442a-a29a-f9e8899089e7"
      },
      "execution_count": 3,
      "outputs": [
        {
          "output_type": "stream",
          "name": "stdout",
          "text": [
            "[1 2 3 4 5 6]\n"
          ]
        }
      ]
    },
    {
      "cell_type": "markdown",
      "source": [
        "# 行列\n",
        "* 行列はスカラーを格子状に並べたもので、例えば以下のように表記します。\n",
        "\n",
        "$$\n",
        "   \\left(\n",
        "    \\begin{array}{cccc}\n",
        "      0 & 1 & 2 & 3 \\\\\n",
        "      4 & 5 & 5 & 6 \\\\\n",
        "      7 & 8 & 9 & 10 \\\\\n",
        "    \\end{array}\n",
        "  \\right)\n",
        "$$"
      ],
      "metadata": {
        "id": "TIKi5L8Ve5ap"
      }
    },
    {
      "cell_type": "markdown",
      "source": [
        "行は、上から1行目、2行目、3行目...と数えます。列は、左から1列目、2列目、3列目...と数えます。また、行がm個、列がn個並んでいる行列を、m x nの行列と表現します。"
      ],
      "metadata": {
        "id": "yPC-Rs4ahtg1"
      }
    },
    {
      "cell_type": "markdown",
      "source": [
        "$$\n",
        "   A = \\left(\n",
        "    \\begin{array}{cccc}\n",
        "      0 & 1 & 2 \\\\\n",
        "      3 & 4 & 5 \\\\\n",
        "    \\end{array}\n",
        "  \\right)\n",
        "$$\n",
        "$$\n",
        "   P = \\left(\n",
        "    \\begin{array}{cccc}\n",
        "      p_{11} & p_{12} & \\ldots & p_{1n} \\\\\n",
        "      p_{21} & p_{22} & \\ldots & p_{2n} \\\\\n",
        "      \\vdots & \\vdots & \\ddots & \\vdots \\\\\n",
        "      p_{m1} & p_{m2} & \\ldots & p_{mn} \\\\\n",
        "    \\end{array}\n",
        "  \\right)\n",
        "$$\n",
        "\n",
        "行列$A$は2x3の行列で、行列$P$はm x nの行列です。  \n",
        "また、$P$に見られるように、行列の要素を変数で表す際の添字の数は2つです。"
      ],
      "metadata": {
        "id": "YWBETO-CiBYq"
      }
    },
    {
      "cell_type": "code",
      "source": [
        "import numpy as np\n",
        "\n",
        "a = np.array([[0, 1, 2],\n",
        "              [3, 4, 5]]) # 2x3の行列\n",
        "print(a)\n",
        "print()\n",
        "\n",
        "b = np.array([[0, 1],\n",
        "              [2, 3],\n",
        "              [4, 5]]) # 3x2の行列\n",
        "print(b)"
      ],
      "metadata": {
        "colab": {
          "base_uri": "https://localhost:8080/"
        },
        "id": "UQLA3LVPiIC7",
        "outputId": "3b77d454-d974-48cb-f4cc-126fa6e2a76c"
      },
      "execution_count": 4,
      "outputs": [
        {
          "output_type": "stream",
          "name": "stdout",
          "text": [
            "[[0 1 2]\n",
            " [3 4 5]]\n",
            "\n",
            "[[0 1]\n",
            " [2 3]\n",
            " [4 5]]\n"
          ]
        }
      ]
    }
  ]
}