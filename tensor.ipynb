{
  "nbformat": 4,
  "nbformat_minor": 0,
  "metadata": {
    "colab": {
      "provenance": [],
      "authorship_tag": "ABX9TyM5ChPWCJqIq8NWFRjIIojj",
      "include_colab_link": true
    },
    "kernelspec": {
      "name": "python3",
      "display_name": "Python 3"
    },
    "language_info": {
      "name": "python"
    }
  },
  "cells": [
    {
      "cell_type": "markdown",
      "metadata": {
        "id": "view-in-github",
        "colab_type": "text"
      },
      "source": [
        "<a href=\"https://colab.research.google.com/github/takahasi103/Python_basic/blob/main/tensor.ipynb\" target=\"_parent\"><img src=\"https://colab.research.google.com/assets/colab-badge.svg\" alt=\"Open In Colab\"/></a>"
      ]
    },
    {
      "cell_type": "markdown",
      "source": [
        "#スカラー\n",
        "* スカラー（scalar）は1、5、1.2、-7などの通常の数値のこと"
      ],
      "metadata": {
        "id": "zkNv9D__Yt3t"
      }
    },
    {
      "cell_type": "code",
      "source": [
        "a = 1\n",
        "b = 1.5\n",
        "c = -2\n",
        "d = 1.5e5 # 1.5x10の5乗"
      ],
      "metadata": {
        "id": "jf957eZ4ZOQj"
      },
      "execution_count": null,
      "outputs": []
    },
    {
      "cell_type": "markdown",
      "source": [
        "# ベクトル\n",
        "* ベクトルは、スカラーを直線上に並べたもの"
      ],
      "metadata": {
        "id": "4CzmDYkkZpgR"
      }
    },
    {
      "cell_type": "markdown",
      "source": [
        " $$ \\begin{aligned}\n",
        " \\vec{p} & = \\left(\n",
        "    \\begin{array}{c}\n",
        "      p_1 \\\\\n",
        "      p_2 \\\\\n",
        "      \\vdots \\\\\n",
        "      p_m\n",
        "    \\end{array}\n",
        " \\right) \\\\\n",
        "\\vec{q} & = (q_1, q_2, \\cdots, q_n)\n",
        "\\end{aligned} $$"
      ],
      "metadata": {
        "id": "dOQZXwWwZ6i5"
      }
    },
    {
      "cell_type": "markdown",
      "source": [
        "ベクトルには、上記の$\\vec{p}$のように縦に数値を並べる縦ベクトルと、$\\vec{q}$のように横に数値を並べる横ベクトルがあります。  \n",
        "また、$\\vec{p}$、$\\vec{q}$に見られるように、ベクトルの要素を変数で表す際の添字の数は1つです。"
      ],
      "metadata": {
        "id": "P45SiHpVaPxc"
      }
    },
    {
      "cell_type": "code",
      "source": [
        "import numpy as np\n",
        "\n",
        "a = np.array([1, 2, 3, 4, 5, 6])\n",
        "print(a)"
      ],
      "metadata": {
        "colab": {
          "base_uri": "https://localhost:8080/"
        },
        "id": "XnuVGBjIa0SI",
        "outputId": "f42fdabe-ba02-442a-a29a-f9e8899089e7"
      },
      "execution_count": 3,
      "outputs": [
        {
          "output_type": "stream",
          "name": "stdout",
          "text": [
            "[1 2 3 4 5 6]\n"
          ]
        }
      ]
    }
  ]
}