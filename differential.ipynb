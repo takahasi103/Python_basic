{
  "nbformat": 4,
  "nbformat_minor": 0,
  "metadata": {
    "colab": {
      "provenance": [],
      "authorship_tag": "ABX9TyM3mdU+qOCeu+5EE//6/uaM",
      "include_colab_link": true
    },
    "kernelspec": {
      "name": "python3",
      "display_name": "Python 3"
    },
    "language_info": {
      "name": "python"
    }
  },
  "cells": [
    {
      "cell_type": "markdown",
      "metadata": {
        "id": "view-in-github",
        "colab_type": "text"
      },
      "source": [
        "<a href=\"https://colab.research.google.com/github/takahasi103/Python_basic/blob/main/differential.ipynb\" target=\"_parent\"><img src=\"https://colab.research.google.com/assets/colab-badge.svg\" alt=\"Open In Colab\"/></a>"
      ]
    },
    {
      "cell_type": "markdown",
      "source": [
        "# 極限と微分"
      ],
      "metadata": {
        "id": "E-AnWSaZfh1Z"
      }
    },
    {
      "cell_type": "markdown",
      "source": [
        "### 極限とは\n",
        "関数における変数の値をある値に近づけるとき、関数の値が限りなく近づく値のことです。  \n",
        "例として、関数$y=x^2+1$において、$x$を徐々に小さくして0に近づけるケースを考えます。  \n",
        "$x=2$のとき、$y=5$  \n",
        "$x=1$のとき、$y=2$  \n",
        "$x=0.5$のとき、$y=1.25$  \n",
        "$x=0.1$のとき、$y=1.01$  \n",
        "$x=0.01$のとき、$y=1.0001$  \n",
        "\n",
        "このように、$x$を0に近づけると$y$は1に近づいていきます。  \n",
        "これは、次のように式で表すことができます。  \n",
        "\n",
        "$$\\lim_{x\\to 0}y = \\lim_{x\\to 0}(x^2+1)=1$$\n",
        "\n",
        "この式は、「$x$を限りなく0に近づけたとき、$y$が限りなく1に近づく」ということを意味します。"
      ],
      "metadata": {
        "id": "6isXKETnfx9E"
      }
    },
    {
      "cell_type": "markdown",
      "source": [
        "### 微分とは\n",
        "関数$y=f(x)$において、$x$の微小な変化量を$\\Delta x$とすると、$x$を$\\Delta x$だけ変化させた際の$y$の値は次のようになります。  \n",
        "\n",
        "$$y=f(x+\\Delta x)$$  \n",
        "\n",
        "このとき、$y$の微小な変化量は次の通りです。\n",
        "\n",
        "$$\\Delta y=f(x+\\Delta x)-f(x)$$  \n",
        "\n",
        "従って、$y$の微小な変化$\\Delta y$と$x$の微小な変化$\\Delta x$の割合は、次の式で表されます。\n",
        "\n",
        "$$ \\frac{\\Delta y}{\\Delta x}=\\frac{f(x+\\Delta x)-f(x)}{\\Delta x} $$\n",
        "\n",
        "この式で、$\\Delta x$の値を0に限りなく近づける極限を考えます。  \n",
        "この極限は、新たな関数$f'(x)$として表すことができます。  \n",
        "\n",
        "$$ f'(x) = \\lim_{\\Delta x \\to 0}\\frac{f(x+\\Delta x)-f(x)}{\\Delta x} $$\n",
        "\n",
        "この関数$f'(x)$を、$f(x)$の**導関数**といいます。  \n",
        "そして、関数$f(x)$から導関数$f'(x)$を得ることを、関数$f(x)$を**微分**する、といいます。\n",
        "\n",
        "導関数は次のように表すこともあります。  \n",
        "\n",
        "$$ f'(x) = \\frac{df(x)}{dx} = \\frac{d}{dx} f(x) $$\n",
        "\n",
        "この場合は関数の変数が$x$のみなのですが、このような1変数関数に対する微分を**常微分**といいます。\n",
        "\n",
        "本コースでは、$x$に対する$y$の変化の割合のことを**勾配**と呼びますが、導関数により、1変数関数上のある点における勾配を求めることができます。  \n",
        "関数$f(x)$上のある点、$(a, f(a))$における勾配は、$f'(a)$となります。  \n",
        "この関係を以下の図に示します。  \n",
        "\n",
        "<img src=\"https://drive.google.com/uc?id=1stK7rsrgCp3n9KYEKigw97XfSheQvr7R\">\n",
        "\n",
        "この図において、傾いた破線は曲線上の点$(a, f(a))$における接線です。この接線の勾配は$f'(a)$であり、曲線上のこの点における局所的な勾配に等しくなります。  \n",
        "\n",
        "なお、この接線の式は、以下の通りになります。\n",
        "\n",
        "$$y=f'(a)x+f(a)-f'(a)a$$"
      ],
      "metadata": {
        "id": "zsr9_kawf_Mv"
      }
    },
    {
      "cell_type": "markdown",
      "source": [
        "#### 微分の公式\n",
        "$r$を任意の実数として$f(x) = x^r$としたとき、以下が成り立ちます 。\n",
        "\n",
        "（公式 1）\n",
        "$$ \\frac{d}{dx}f(x) = \\frac{d}{dx}x^r = rx^{r-1} $$\n",
        "\n",
        "また、関数の和$f(x)+g(x)$を微分する際は、それぞれを微分して足し合わせます。  \n",
        "\n",
        "（公式 2）\n",
        "$$ \\frac{d}{dx}(f(x)+g(x)) = \\frac{d}{dx}f(x)+\\frac{d}{dx}g(x) $$\n",
        "\n",
        "関数の積$f(x)g(x)$は、次のように微分することができます。  \n",
        "\n",
        "（公式 3）\n",
        "$$ \\frac{d}{dx}(f(x)g(x)) = f(x)\\frac{d}{dx}g(x)+g(x)\\frac{d}{dx}f(x) $$\n",
        "\n",
        "定数は、微分の外に出ることができます。$k$を任意の実数としたとき、以下の公式が成り立ちます。\n",
        "\n",
        "（公式 4）\n",
        "$$ \\frac{d}{dx}kf(x) = k\\frac{d}{dx}f(x) $$\n",
        "\n",
        "それでは、例として以下の関数を微分してみましょう。  \n",
        "\n",
        "$$ f(x)=3x^2+4x-5 $$\n",
        "\n",
        "この場合、（公式 1）（公式 2）（公式 4）を用いて次のように微分を行うことができます。\n",
        "\n",
        "$$ \\begin{aligned} \\\\\n",
        "f'(x) & = \\frac{d}{dx}(3x^2)+\\frac{d}{dx}(4x^1)-\\frac{d}{dx}(5x^0) \\\\\n",
        "& = 3\\frac{d}{dx}(x^2)+4\\frac{d}{dx}(x^1)-5\\frac{d}{dx}(x^0) \\\\\n",
        "& = 6x+4 \\\\\n",
        "\\end{aligned} $$\n",
        "\n",
        "以上のように、公式を組み合わせることで様々な関数の導関数を求めることができます。"
      ],
      "metadata": {
        "id": "Z2bSG7jThC_P"
      }
    },
    {
      "cell_type": "markdown",
      "source": [
        "### 接戦の描画\n",
        "導関数を使って、関数$f(x)=3x^2+4x-5$の$x=1$における接線を描画します。"
      ],
      "metadata": {
        "id": "6qOkiGIqhYkr"
      }
    },
    {
      "cell_type": "code",
      "execution_count": null,
      "metadata": {
        "colab": {
          "base_uri": "https://localhost:8080/",
          "height": 430
        },
        "id": "keBz7uISfCh3",
        "outputId": "16a0533d-5ef3-45e7-a0a8-0027b117b1ca"
      },
      "outputs": [
        {
          "output_type": "display_data",
          "data": {
            "text/plain": [
              "<Figure size 640x480 with 1 Axes>"
            ],
            "image/png": "[encoded data removed]"
          },
          "metadata": {}
        }
      ],
      "source": [
        "import numpy as np\n",
        "import matplotlib.pyplot as plt\n",
        "\n",
        "def my_func(x):\n",
        "    return 3*x**2 + 4*x - 5\n",
        "\n",
        "def my_func_dif(x):  # 導関数\n",
        "    return 6*x + 4\n",
        "\n",
        "x = np.linspace(-3, 3)\n",
        "y = my_func(x)\n",
        "\n",
        "a = 1\n",
        "y_t = my_func_dif(a)*x + my_func(a) - my_func_dif(a)*a  # x=1のときの接線\n",
        "\n",
        "plt.plot(x, y, label=\"y\")\n",
        "plt.plot(x, y_t, label=\"y_t\")\n",
        "\n",
        "plt.legend()\n",
        "plt.show()"
      ]
    },
    {
      "cell_type": "markdown",
      "source": [
        "# 合成関数"
      ],
      "metadata": {
        "id": "x7NjtZQ5jFge"
      }
    },
    {
      "cell_type": "markdown",
      "source": [
        "$$ \\begin{aligned} \\\\\n",
        "y & = f(u) \\\\\n",
        "u & = g(x) \\\\\n",
        "\\end{aligned} $$\n",
        "\n",
        "のようにして、複数の関数の合成で表される関数のことです。    \n",
        "例えば、関数 $y=(x^2+1)^3$ は、以下のような$u$を挟んだ合成関数と考えることができます。\n",
        "\n",
        "$$ \\begin{aligned} \\\\\n",
        "y &= u^3 \\\\\n",
        "u &= x^2+1 \\\\\n",
        "\\end{aligned} $$"
      ],
      "metadata": {
        "id": "cZx5xHxfjJFF"
      }
    },
    {
      "cell_type": "markdown",
      "source": [
        "# 連鎖律"
      ],
      "metadata": {
        "id": "cJJ_twUajSeG"
      }
    },
    {
      "cell_type": "markdown",
      "source": [
        "合成関数の微分は、構成する各関数の導関数の積で表すことができます。これを**連鎖律**（chain rule）といいます。  \n",
        "連鎖律は以下の式で表されます。  \n",
        "\n",
        "（式 1）\n",
        "$$ \\frac{dy}{dx} = \\frac{dy}{du} \\frac{du}{dx} $$\n",
        "\n",
        "$y$が$u$の関数で、$u$が$x$の関数であるとき、この公式を用いて$y$を$x$で微分することができます。  \n",
        "例として、以下の関数を微分してみましょう。  \n",
        "\n",
        "$$ y=(x^3+2x^2+3x+4)^3 $$\n",
        "\n",
        "この式において、$u$を以下の通り設定します。  \n",
        "\n",
        "$$ u=x^3+2x^2+3x+4 $$\n",
        "\n",
        "そうすると、$y$を以下のように表すことができます。  \n",
        "\n",
        "$$ y=u^3 $$\n",
        "\n",
        "このとき、（式 1）の連鎖律の式を用いると、$y$を$x$で微分することができます。\n",
        "\n",
        "$$ \\begin{aligned} \\\\\n",
        "\\frac{dy}{dx} & =\\frac{dy}{du} \\frac{du}{dx} \\\\\n",
        "& = 3u^2(3x^2+4x+3) \\\\\n",
        "& =3(x^3+2x^2+3x+4)^2(3x^2+4x+3)\n",
        "\\end{aligned} $$\n",
        "\n",
        "以上のように、合成関数は連鎖律を用いて微分することができます。"
      ],
      "metadata": {
        "id": "OnNESACNjXRJ"
      }
    }
  ]
}